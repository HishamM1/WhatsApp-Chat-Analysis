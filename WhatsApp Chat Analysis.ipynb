{
 "cells": [
  {
   "cell_type": "code",
   "execution_count": 37,
   "id": "2ce3d67d",
   "metadata": {},
   "outputs": [],
   "source": [
    "#Importing libraries\n",
    "import pandas as pd\n",
    "import plotly.express as px\n",
    "import plotly.graph_objects as go\n",
    "import re\n",
    "from collections import Counter\n",
    "import warnings\n",
    "warnings.filterwarnings('ignore')"
   ]
  },
  {
   "cell_type": "code",
   "execution_count": 38,
   "id": "bd03540f",
   "metadata": {},
   "outputs": [],
   "source": [
    "#Chat path\n",
    "chat_txt = \"WhatsApp Chats/WhatsApp Chat with Sara.txt\""
   ]
  },
  {
   "cell_type": "code",
   "execution_count": 39,
   "id": "6f06f8d5",
   "metadata": {},
   "outputs": [],
   "source": [
    "#Getting the text file using open function and splitting every line in a list named content\n",
    "with open(chat_txt, \"r+\",encoding=\"utf-8\") as f:\n",
    "    content = f.read().splitlines()"
   ]
  },
  {
   "cell_type": "code",
   "execution_count": 40,
   "id": "fdba3a8b",
   "metadata": {},
   "outputs": [
    {
     "data": {
      "text/plain": [
       "['21/12/2016, 3:13 pm - Sara: <Media omitted>',\n",
       " '21/12/2016, 3:14 pm - Sara: <Media omitted>',\n",
       " '21/12/2016, 3:14 pm - Sara: <Media omitted>',\n",
       " '21/12/2016, 3:14 pm - Sara: <Media omitted>',\n",
       " '21/12/2016, 3:14 pm - Sara: <Media omitted>']"
      ]
     },
     "execution_count": 40,
     "metadata": {},
     "output_type": "execute_result"
    }
   ],
   "source": [
    "content[:5]"
   ]
  },
  {
   "cell_type": "code",
   "execution_count": 41,
   "id": "33e57a19",
   "metadata": {},
   "outputs": [
    {
     "data": {
      "text/plain": [
       "['21/12/2016', ' 3:13 pm', 'Hisham', '<Media omitted>']"
      ]
     },
     "execution_count": 41,
     "metadata": {},
     "output_type": "execute_result"
    }
   ],
   "source": [
    "y = '21/12/2016, 3:13 pm - Hisham: <Media omitted>'\n",
    "y1 = y.replace(' - ',',')\n",
    "y2 = y1.replace(': ',',')\n",
    "y3 = y2.split(',')\n",
    "y3"
   ]
  },
  {
   "cell_type": "code",
   "execution_count": 42,
   "id": "149b9ac3",
   "metadata": {},
   "outputs": [
    {
     "data": {
      "text/plain": [
       "4"
      ]
     },
     "execution_count": 42,
     "metadata": {},
     "output_type": "execute_result"
    }
   ],
   "source": [
    "len(y.replace(' - ',',').replace(': ',',').split(','))"
   ]
  },
  {
   "cell_type": "markdown",
   "id": "74764e9f",
   "metadata": {},
   "source": [
    "Every line contains 4 columns date, time, user, and the message so we have to check if every line contains those four columns, if not then its a multi line message."
   ]
  },
  {
   "cell_type": "code",
   "execution_count": 43,
   "id": "8e17beb6",
   "metadata": {},
   "outputs": [],
   "source": [
    "def check_length(x):\n",
    "    return len(x.replace(' - ',',').replace(': ',',').split(','))"
   ]
  },
  {
   "cell_type": "code",
   "execution_count": 44,
   "id": "65f186fd",
   "metadata": {},
   "outputs": [],
   "source": [
    "date = []\n",
    "time = []\n",
    "user = []\n",
    "message = []\n",
    "count = 1\n",
    "for x in range(len(content)):\n",
    "        #If the first message isn't right then maybe it's just a message from whatsapp like 'Messages and calls are end-to-end encrypted.'\n",
    "        # so we don't have to worry about it\n",
    "        if check_length(content[x]) != 4 and x==0:\n",
    "                continue\n",
    "\n",
    "        elif check_length(content[x]) != 4:\n",
    "                #If it's a multi line message we will add the message to the last element in message list until it gets all the lines\n",
    "                message[(len(message)-1)-count] = message[(len(message)-1)-count] + content[x]\n",
    "                count += 1\n",
    "                continue  \n",
    "        date.append(content[x][:content[x].index(',')])\n",
    "        time.append((content[x][content[x].index(',')+len(','):content[x].index('-')]).strip())\n",
    "        user.append((content[x][content[x].index('- ')+len('- '):content[x].index(': ')]).strip())\n",
    "        message.append(content[x][content[x].index(': ')+1:].strip())\n",
    "        count = 1"
   ]
  },
  {
   "cell_type": "code",
   "execution_count": 45,
   "id": "9525e4bf",
   "metadata": {},
   "outputs": [
    {
     "data": {
      "text/plain": [
       "(7569, 7569, 7569, 7569)"
      ]
     },
     "execution_count": 45,
     "metadata": {},
     "output_type": "execute_result"
    }
   ],
   "source": [
    "#All have the same length which a good thing\n",
    "len(message), len(date), len(user), len(time)"
   ]
  },
  {
   "cell_type": "code",
   "execution_count": 46,
   "id": "c528043a",
   "metadata": {},
   "outputs": [],
   "source": [
    "chat_dic = {'Date':date,\n",
    "            'Time':time,\n",
    "            'User':user,\n",
    "            'Message':message}"
   ]
  },
  {
   "cell_type": "code",
   "execution_count": 47,
   "id": "5eff8758",
   "metadata": {},
   "outputs": [],
   "source": [
    "#Converting the dictionary to a pandas dataframe\n",
    "df = pd.DataFrame(chat_dic)"
   ]
  },
  {
   "cell_type": "code",
   "execution_count": 48,
   "id": "fc903ed2",
   "metadata": {},
   "outputs": [
    {
     "data": {
      "text/html": [
       "<div>\n",
       "<style scoped>\n",
       "    .dataframe tbody tr th:only-of-type {\n",
       "        vertical-align: middle;\n",
       "    }\n",
       "\n",
       "    .dataframe tbody tr th {\n",
       "        vertical-align: top;\n",
       "    }\n",
       "\n",
       "    .dataframe thead th {\n",
       "        text-align: right;\n",
       "    }\n",
       "</style>\n",
       "<table border=\"1\" class=\"dataframe\">\n",
       "  <thead>\n",
       "    <tr style=\"text-align: right;\">\n",
       "      <th></th>\n",
       "      <th>Date</th>\n",
       "      <th>Time</th>\n",
       "      <th>User</th>\n",
       "      <th>Message</th>\n",
       "    </tr>\n",
       "  </thead>\n",
       "  <tbody>\n",
       "    <tr>\n",
       "      <th>0</th>\n",
       "      <td>21/12/2016</td>\n",
       "      <td>3:13 pm</td>\n",
       "      <td>Sara</td>\n",
       "      <td>&lt;Media omitted&gt;</td>\n",
       "    </tr>\n",
       "    <tr>\n",
       "      <th>1</th>\n",
       "      <td>21/12/2016</td>\n",
       "      <td>3:14 pm</td>\n",
       "      <td>Sara</td>\n",
       "      <td>&lt;Media omitted&gt;</td>\n",
       "    </tr>\n",
       "    <tr>\n",
       "      <th>2</th>\n",
       "      <td>21/12/2016</td>\n",
       "      <td>3:14 pm</td>\n",
       "      <td>Sara</td>\n",
       "      <td>&lt;Media omitted&gt;</td>\n",
       "    </tr>\n",
       "    <tr>\n",
       "      <th>3</th>\n",
       "      <td>21/12/2016</td>\n",
       "      <td>3:14 pm</td>\n",
       "      <td>Sara</td>\n",
       "      <td>&lt;Media omitted&gt;</td>\n",
       "    </tr>\n",
       "    <tr>\n",
       "      <th>4</th>\n",
       "      <td>21/12/2016</td>\n",
       "      <td>3:14 pm</td>\n",
       "      <td>Sara</td>\n",
       "      <td>&lt;Media omitted&gt;</td>\n",
       "    </tr>\n",
       "    <tr>\n",
       "      <th>5</th>\n",
       "      <td>21/12/2016</td>\n",
       "      <td>3:14 pm</td>\n",
       "      <td>Sara</td>\n",
       "      <td>&lt;Media omitted&gt;</td>\n",
       "    </tr>\n",
       "    <tr>\n",
       "      <th>6</th>\n",
       "      <td>21/12/2016</td>\n",
       "      <td>3:56 pm</td>\n",
       "      <td>Sara</td>\n",
       "      <td>&lt;Media omitted&gt;</td>\n",
       "    </tr>\n",
       "    <tr>\n",
       "      <th>7</th>\n",
       "      <td>21/12/2016</td>\n",
       "      <td>8:42 pm</td>\n",
       "      <td>Sara</td>\n",
       "      <td>اطلع من حمام ي حيوان</td>\n",
       "    </tr>\n",
       "  </tbody>\n",
       "</table>\n",
       "</div>"
      ],
      "text/plain": [
       "         Date     Time  User               Message\n",
       "0  21/12/2016  3:13 pm  Sara       <Media omitted>\n",
       "1  21/12/2016  3:14 pm  Sara       <Media omitted>\n",
       "2  21/12/2016  3:14 pm  Sara       <Media omitted>\n",
       "3  21/12/2016  3:14 pm  Sara       <Media omitted>\n",
       "4  21/12/2016  3:14 pm  Sara       <Media omitted>\n",
       "5  21/12/2016  3:14 pm  Sara       <Media omitted>\n",
       "6  21/12/2016  3:56 pm  Sara       <Media omitted>\n",
       "7  21/12/2016  8:42 pm  Sara  اطلع من حمام ي حيوان"
      ]
     },
     "execution_count": 48,
     "metadata": {},
     "output_type": "execute_result"
    }
   ],
   "source": [
    "#Viewing the first 8 rows\n",
    "df.head(8)"
   ]
  },
  {
   "cell_type": "code",
   "execution_count": 49,
   "id": "04d1e9d0",
   "metadata": {},
   "outputs": [
    {
     "name": "stdout",
     "output_type": "stream",
     "text": [
      "<class 'pandas.core.frame.DataFrame'>\n",
      "RangeIndex: 7569 entries, 0 to 7568\n",
      "Data columns (total 4 columns):\n",
      " #   Column   Non-Null Count  Dtype \n",
      "---  ------   --------------  ----- \n",
      " 0   Date     7569 non-null   object\n",
      " 1   Time     7569 non-null   object\n",
      " 2   User     7569 non-null   object\n",
      " 3   Message  7569 non-null   object\n",
      "dtypes: object(4)\n",
      "memory usage: 236.7+ KB\n"
     ]
    }
   ],
   "source": [
    "df.info()"
   ]
  },
  {
   "cell_type": "code",
   "execution_count": 50,
   "id": "d7aa4b3e",
   "metadata": {},
   "outputs": [],
   "source": [
    "#Converting columns to its correct type\n",
    "df['Date'] = pd.to_datetime(df['Date'])\n",
    "df['Time'] = df['Time'].apply(lambda x : pd.to_datetime(x).strftime('%H:%M'))\n",
    "#Replacing Media omitted value\n",
    "df['Message'] = df['Message'].replace('<Media omitted>','Image or Video')"
   ]
  },
  {
   "cell_type": "code",
   "execution_count": 51,
   "id": "89f8f42d",
   "metadata": {},
   "outputs": [],
   "source": [
    "#Adding date and time columns\n",
    "df['Day'] = df['Date'].apply(lambda x:x.day_name())\n",
    "df['Month'] = df['Date'].apply(lambda x:x.month_name())\n",
    "df['Year'] = df['Date'].apply(lambda x:x.year)\n",
    "df['Hour'] = df['Time'].apply(lambda x:x[:2])"
   ]
  },
  {
   "cell_type": "code",
   "execution_count": 52,
   "id": "233bcb98",
   "metadata": {},
   "outputs": [
    {
     "data": {
      "text/html": [
       "<div>\n",
       "<style scoped>\n",
       "    .dataframe tbody tr th:only-of-type {\n",
       "        vertical-align: middle;\n",
       "    }\n",
       "\n",
       "    .dataframe tbody tr th {\n",
       "        vertical-align: top;\n",
       "    }\n",
       "\n",
       "    .dataframe thead th {\n",
       "        text-align: right;\n",
       "    }\n",
       "</style>\n",
       "<table border=\"1\" class=\"dataframe\">\n",
       "  <thead>\n",
       "    <tr style=\"text-align: right;\">\n",
       "      <th></th>\n",
       "      <th>Date</th>\n",
       "      <th>Time</th>\n",
       "      <th>User</th>\n",
       "      <th>Message</th>\n",
       "      <th>Day</th>\n",
       "      <th>Month</th>\n",
       "      <th>Year</th>\n",
       "      <th>Hour</th>\n",
       "    </tr>\n",
       "  </thead>\n",
       "  <tbody>\n",
       "    <tr>\n",
       "      <th>0</th>\n",
       "      <td>2016-12-21</td>\n",
       "      <td>15:13</td>\n",
       "      <td>Sara</td>\n",
       "      <td>Image or Video</td>\n",
       "      <td>Wednesday</td>\n",
       "      <td>December</td>\n",
       "      <td>2016</td>\n",
       "      <td>15</td>\n",
       "    </tr>\n",
       "    <tr>\n",
       "      <th>1</th>\n",
       "      <td>2016-12-21</td>\n",
       "      <td>15:14</td>\n",
       "      <td>Sara</td>\n",
       "      <td>Image or Video</td>\n",
       "      <td>Wednesday</td>\n",
       "      <td>December</td>\n",
       "      <td>2016</td>\n",
       "      <td>15</td>\n",
       "    </tr>\n",
       "    <tr>\n",
       "      <th>2</th>\n",
       "      <td>2016-12-21</td>\n",
       "      <td>15:14</td>\n",
       "      <td>Sara</td>\n",
       "      <td>Image or Video</td>\n",
       "      <td>Wednesday</td>\n",
       "      <td>December</td>\n",
       "      <td>2016</td>\n",
       "      <td>15</td>\n",
       "    </tr>\n",
       "    <tr>\n",
       "      <th>3</th>\n",
       "      <td>2016-12-21</td>\n",
       "      <td>15:14</td>\n",
       "      <td>Sara</td>\n",
       "      <td>Image or Video</td>\n",
       "      <td>Wednesday</td>\n",
       "      <td>December</td>\n",
       "      <td>2016</td>\n",
       "      <td>15</td>\n",
       "    </tr>\n",
       "    <tr>\n",
       "      <th>4</th>\n",
       "      <td>2016-12-21</td>\n",
       "      <td>15:14</td>\n",
       "      <td>Sara</td>\n",
       "      <td>Image or Video</td>\n",
       "      <td>Wednesday</td>\n",
       "      <td>December</td>\n",
       "      <td>2016</td>\n",
       "      <td>15</td>\n",
       "    </tr>\n",
       "  </tbody>\n",
       "</table>\n",
       "</div>"
      ],
      "text/plain": [
       "        Date   Time  User         Message        Day     Month  Year Hour\n",
       "0 2016-12-21  15:13  Sara  Image or Video  Wednesday  December  2016   15\n",
       "1 2016-12-21  15:14  Sara  Image or Video  Wednesday  December  2016   15\n",
       "2 2016-12-21  15:14  Sara  Image or Video  Wednesday  December  2016   15\n",
       "3 2016-12-21  15:14  Sara  Image or Video  Wednesday  December  2016   15\n",
       "4 2016-12-21  15:14  Sara  Image or Video  Wednesday  December  2016   15"
      ]
     },
     "execution_count": 52,
     "metadata": {},
     "output_type": "execute_result"
    }
   ],
   "source": [
    "df.head()"
   ]
  },
  {
   "cell_type": "code",
   "execution_count": 53,
   "id": "771b86f0",
   "metadata": {},
   "outputs": [
    {
     "name": "stdout",
     "output_type": "stream",
     "text": [
      "Total Messages 7569\n"
     ]
    }
   ],
   "source": [
    "print(\"Total Messages\",len(df['Message']))"
   ]
  },
  {
   "cell_type": "code",
   "execution_count": 54,
   "id": "0e489cf0",
   "metadata": {},
   "outputs": [
    {
     "data": {
      "text/html": [
       "<div>\n",
       "<style scoped>\n",
       "    .dataframe tbody tr th:only-of-type {\n",
       "        vertical-align: middle;\n",
       "    }\n",
       "\n",
       "    .dataframe tbody tr th {\n",
       "        vertical-align: top;\n",
       "    }\n",
       "\n",
       "    .dataframe thead th {\n",
       "        text-align: right;\n",
       "    }\n",
       "</style>\n",
       "<table border=\"1\" class=\"dataframe\">\n",
       "  <thead>\n",
       "    <tr style=\"text-align: right;\">\n",
       "      <th></th>\n",
       "      <th>Message</th>\n",
       "    </tr>\n",
       "    <tr>\n",
       "      <th>Date</th>\n",
       "      <th></th>\n",
       "    </tr>\n",
       "  </thead>\n",
       "  <tbody>\n",
       "    <tr>\n",
       "      <th>2020-09-16</th>\n",
       "      <td>217</td>\n",
       "    </tr>\n",
       "    <tr>\n",
       "      <th>2021-12-08</th>\n",
       "      <td>147</td>\n",
       "    </tr>\n",
       "    <tr>\n",
       "      <th>2021-07-21</th>\n",
       "      <td>99</td>\n",
       "    </tr>\n",
       "    <tr>\n",
       "      <th>2022-11-01</th>\n",
       "      <td>87</td>\n",
       "    </tr>\n",
       "  </tbody>\n",
       "</table>\n",
       "</div>"
      ],
      "text/plain": [
       "            Message\n",
       "Date               \n",
       "2020-09-16      217\n",
       "2021-12-08      147\n",
       "2021-07-21       99\n",
       "2022-11-01       87"
      ]
     },
     "execution_count": 54,
     "metadata": {},
     "output_type": "execute_result"
    }
   ],
   "source": [
    "df.groupby('Date').agg({'Message':'count'}).sort_values(by='Message',ascending=False)[:4]"
   ]
  },
  {
   "cell_type": "code",
   "execution_count": 55,
   "id": "807d6e7a",
   "metadata": {},
   "outputs": [],
   "source": [
    "df_date=df.groupby('Date').agg({'Message':'count'}).reset_index()"
   ]
  },
  {
   "cell_type": "code",
   "execution_count": 77,
   "id": "5129bf50",
   "metadata": {},
   "outputs": [
    {
     "data": {
      "image/svg+xml": "<svg class=\"main-svg\" xmlns=\"http://www.w3.org/2000/svg\" xmlns:xlink=\"http://www.w3.org/1999/xlink\" width=\"700\" height=\"500\" style=\"\" viewBox=\"0 0 700 500\"><rect x=\"0\" y=\"0\" width=\"700\" height=\"500\" style=\"fill: rgb(255, 255, 255); fill-opacity: 1;\"/><defs id=\"defs-d0195d\"><g class=\"clips\"><clipPath id=\"clipd0195dxyplot\" class=\"plotclip\"><rect width=\"540\" height=\"241\"/></clipPath><clipPath class=\"axesclip\" id=\"clipd0195dx\"><rect x=\"80\" y=\"0\" width=\"540\" height=\"500\"/></clipPath><clipPath class=\"axesclip\" id=\"clipd0195dy\"><rect x=\"0\" y=\"100\" width=\"700\" height=\"241\"/></clipPath><clipPath class=\"axesclip\" id=\"clipd0195dxy\"><rect x=\"80\" y=\"100\" width=\"540\" height=\"241\"/></clipPath></g><g class=\"gradients\"/><g class=\"patterns\"/></defs><g class=\"bglayer\"><rect class=\"bg\" x=\"80\" y=\"100\" width=\"540\" height=\"241\" style=\"fill: rgb(229, 236, 246); fill-opacity: 1; stroke-width: 0;\"/></g><g class=\"layer-below\"><g class=\"imagelayer\"/><g class=\"shapelayer\"/></g><g class=\"cartesianlayer\"><g class=\"subplot xy\"><g class=\"layer-subplot\"><g class=\"shapelayer\"/><g class=\"imagelayer\"/></g><g class=\"gridlayer\"><g class=\"x\"><path class=\"xgrid crisp\" transform=\"translate(82.73,0)\" d=\"M0,100v241\" style=\"stroke: rgb(255, 255, 255); stroke-opacity: 1; stroke-width: 1px;\"/><path class=\"xgrid crisp\" transform=\"translate(173.26999999999998,0)\" d=\"M0,100v241\" style=\"stroke: rgb(255, 255, 255); stroke-opacity: 1; stroke-width: 1px;\"/><path class=\"xgrid crisp\" transform=\"translate(263.8,0)\" d=\"M0,100v241\" style=\"stroke: rgb(255, 255, 255); stroke-opacity: 1; stroke-width: 1px;\"/><path class=\"xgrid crisp\" transform=\"translate(354.34,0)\" d=\"M0,100v241\" style=\"stroke: rgb(255, 255, 255); stroke-opacity: 1; stroke-width: 1px;\"/><path class=\"xgrid crisp\" transform=\"translate(445.13,0)\" d=\"M0,100v241\" style=\"stroke: rgb(255, 255, 255); stroke-opacity: 1; stroke-width: 1px;\"/><path class=\"xgrid crisp\" transform=\"translate(535.6600000000001,0)\" d=\"M0,100v241\" style=\"stroke: rgb(255, 255, 255); stroke-opacity: 1; stroke-width: 1px;\"/></g><g class=\"y\"><path class=\"ygrid crisp\" transform=\"translate(0,279.75)\" d=\"M80,0h540\" style=\"stroke: rgb(255, 255, 255); stroke-opacity: 1; stroke-width: 1px;\"/><path class=\"ygrid crisp\" transform=\"translate(0,229.54)\" d=\"M80,0h540\" style=\"stroke: rgb(255, 255, 255); stroke-opacity: 1; stroke-width: 1px;\"/><path class=\"ygrid crisp\" transform=\"translate(0,179.32999999999998)\" d=\"M80,0h540\" style=\"stroke: rgb(255, 255, 255); stroke-opacity: 1; stroke-width: 1px;\"/><path class=\"ygrid crisp\" transform=\"translate(0,129.12)\" d=\"M80,0h540\" style=\"stroke: rgb(255, 255, 255); stroke-opacity: 1; stroke-width: 1px;\"/></g></g><g class=\"zerolinelayer\"><path class=\"yzl zl crisp\" transform=\"translate(0,329.95)\" d=\"M80,0h540\" style=\"stroke: rgb(255, 255, 255); stroke-opacity: 1; stroke-width: 2px;\"/></g><path class=\"xlines-below\"/><path class=\"ylines-below\"/><g class=\"overlines-below\"/><g class=\"xaxislayer-below\"/><g class=\"yaxislayer-below\"/><g class=\"overaxes-below\"/><g class=\"plot\" transform=\"translate(80,100)\" clip-path=\"url(#clipd0195dxyplot)\"><g class=\"scatterlayer mlayer\"><g class=\"trace scatter tracef9eb60\" style=\"stroke-miterlimit: 2; opacity: 1;\"><g class=\"fills\"/><g class=\"errorbars\"/><g class=\"lines\"><path class=\"js-line\" d=\"M0,221.92L5.21,224.93L12.9,226.94L14.39,228.95L19.6,221.92L22.32,228.95L24.56,228.95L31.01,228.95L34.73,224.93L38.94,222.93L42.17,228.95L42.66,228.95L43.41,221.92L43.9,227.95L44.15,225.94L47.38,173.72L50.11,227.95L57.8,228.95L60.03,227.95L60.28,228.95L60.52,201.84L61.76,227.95L64.24,222.93L66.23,228.95L69.21,224.93L70.2,227.95L73.17,228.95L73.92,227.95L74.66,226.94L75.16,228.95L75.65,216.9L75.9,228.95L76.4,228.95L76.65,227.95L77.14,228.95L77.64,220.92L77.89,228.95L81.36,228.95L82.1,212.88L82.6,215.9L83.59,228.95L84.58,228.95L88.06,228.95L89.05,197.82L89.3,228.95L89.55,223.93L90.04,183.76L90.29,227.95L91.28,227.95L91.53,224.93L92.52,227.95L92.77,228.95L93.02,227.95L93.51,204.85L94.26,227.95L94.75,145.6L96.24,228.95L96.49,221.92L96.99,214.89L97.73,228.95L98.23,224.93L98.47,226.94L99.47,228.95L99.72,227.95L100.96,223.93L101.2,216.9L101.95,226.94L102.2,227.95L102.44,222.93L103.93,228.95L105.17,217.9L105.67,225.94L105.92,215.9L106.41,225.94L107.4,203.85L107.9,227.95L110.63,228.95L111.62,228.95L112.12,226.94L113.11,227.95L114.1,222.93L116.33,199.83L118.57,222.93L119.56,228.95L119.81,227.95L120.55,226.94L121.3,200.83L121.54,222.93L121.79,225.94L122.54,224.93L123.53,224.93L123.78,171.71L124.27,227.95L125.76,227.95L126.01,220.92L126.26,228.95L126.75,221.92L127.5,210.88L127.99,227.95L128.74,225.94L128.98,216.9L129.23,228.95L129.73,213.89L130.97,227.95L131.47,211.88L134.19,226.94L134.69,225.94L134.94,218.91L135.19,226.94L135.68,194.81L137.42,228.95L137.91,220.92L138.16,149.62L138.41,227.95L138.91,226.94L145.85,211.88L146.1,220.92L146.6,226.94L147.09,225.94L153.54,228.95L154.04,227.95L154.29,214.89L156.27,228.95L160.98,226.94L161.48,216.9L162.22,227.95L163.46,226.94L164.95,226.94L165.94,227.95L166.69,225.94L167.93,228.95L168.42,219.91L168.67,199.83L168.92,228.95L169.66,224.93L171.15,228.95L172.15,228.95L173.63,228.95L173.88,227.95L174.38,203.85L175.87,214.89L176.36,228.95L176.86,218.91L178.84,228.95L179.34,222.93L181.07,228.95L182.07,219.91L183.06,228.95L183.31,222.93L183.8,186.77L184.3,227.95L185.54,210.88L185.79,223.93L186.53,228.95L186.78,218.91L187.52,228.95L188.27,222.93L188.76,228.95L189.26,227.95L189.51,223.93L190.5,228.95L190.75,222.93L191.49,228.95L192.98,216.9L193.23,227.95L194.72,227.95L195.71,221.92L196.95,228.95L197.69,225.94L198.93,227.95L199.18,218.91L200.42,224.93L200.67,224.93L201.17,225.94L204.14,219.91L205.14,214.89L205.63,228.95L206.38,210.88L207.86,228.95L208.61,227.95L209.1,213.89L210.34,228.95L211.34,216.9L211.83,226.94L212.08,228.95L212.33,223.93L213.82,228.95L214.31,222.93L214.56,223.93L214.81,214.89L216.05,227.95L216.55,228.95L216.79,201.84L217.04,203.85L217.54,224.93L218.03,224.93L219.27,199.83L220.02,228.95L221.01,226.94L221.51,227.95L222,223.93L222.99,223.93L223.74,227.95L224.24,215.9L224.48,219.91L224.73,228.95L228.45,221.92L229.44,228.95L230.44,220.92L230.93,225.94L232.92,223.93L233.41,228.95L233.66,207.86L234.16,208.87L234.65,228.95L235.15,228.95L236.39,226.94L236.64,228.95L237.13,226.94L237.38,226.94L237.88,228.95L238.13,217.9L238.87,216.9L239.61,221.92L240.85,227.95L241.85,221.92L243.83,228.95L244.33,228.95L244.58,225.94L245.07,227.95L245.32,226.94L245.82,193.8L246.56,227.95L247.8,228.95L248.05,225.94L248.79,228.95L249.04,226.94L249.78,225.94L250.03,227.95L251.52,228.95L251.77,224.93L252.02,225.94L252.51,216.9L252.76,228.95L253.01,227.95L253.26,215.9L253.75,228.95L254.5,225.94L255.24,226.94L256.98,226.94L258.22,227.95L258.47,215.9L258.71,222.93L260.2,227.95L261.69,227.95L261.94,225.94L262.19,216.9L262.43,228.95L263.43,228.95L264.42,222.93L265.41,227.95L265.66,228.95L266.4,213.89L266.9,210.88L267.15,228.95L267.64,227.95L268.14,228.95L268.39,214.89L269.63,228.95L271.36,226.94L272.36,227.95L272.6,225.94L273.1,228.95L274.09,226.94L274.34,222.93L274.59,227.95L276.08,199.83L276.82,227.95L277.07,215.9L278.06,228.95L279.05,217.9L279.3,225.94L279.8,216.9L280.29,228.95L281.04,223.93L282.77,228.95L283.02,227.95L283.77,222.93L284.01,226.94L284.51,223.93L286,228.95L286.74,226.94L286.99,228.95L287.98,225.94L288.48,221.92L290.22,228.95L290.96,224.93L291.21,226.94L291.46,215.9L292.7,228.95L293.19,228.95L293.44,228.95L293.69,226.94L294.43,228.95L294.68,226.94L295.42,222.93L295.67,226.94L296.17,218.91L296.42,228.95L296.67,228.95L297.66,227.95L297.91,228.95L298.65,212.88L300.14,228.95L300.63,228.95L300.88,225.94L301.13,227.95L301.63,227.95L302.12,227.95L302.37,228.95L304.6,220.92L305.1,226.94L305.59,228.95L306.09,199.83L307.08,228.95L308.32,220.92L308.57,212.88L309.81,228.95L311.3,220.92L311.55,227.95L311.8,227.95L312.04,193.8L313.04,228.95L313.28,227.95L313.78,149.62L314.52,226.94L315.02,213.89L319.73,227.95L321.22,212.88L321.97,227.95L322.21,223.93L323.95,219.91L324.69,219.91L324.94,221.92L325.19,193.8L325.69,202.84L325.93,226.94L326.18,225.94L326.43,228.95L327.18,224.93L327.92,227.95L329.16,215.9L329.41,220.92L329.9,228.95L330.9,179.75L331.14,181.75L331.39,228.95L331.89,194.81L332.14,214.89L332.38,217.9L333.13,221.92L333.38,209.87L335.36,228.95L336.85,210.88L338.09,227.95L338.34,225.94L338.59,12.05L338.83,228.95L339.33,227.95L339.58,224.93L340.32,225.94L340.57,166.69L340.82,155.65L341.07,181.75L341.56,227.95L341.81,223.93L342.06,221.92L342.8,227.95L343.3,182.76L344.04,228.95L344.29,209.87L344.79,226.94L345.28,172.72L346.03,227.95L346.27,206.86L346.77,192.8L347.02,216.9L347.27,228.95L348.76,227.95L349,211.88L349.25,225.94L350.49,213.89L351.24,228.95L351.73,224.93L351.98,209.87L352.23,225.94L352.72,227.95L352.97,179.75L353.22,216.9L353.72,220.92L353.96,227.95L354.46,224.93L354.96,228.95L355.45,225.94L355.7,227.95L356.44,207.86L356.69,227.95L357.19,217.9L357.68,203.85L357.93,227.95L358.18,210.88L358.68,226.94L359.42,219.91L359.67,228.95L359.92,215.9L360.41,218.91L360.91,228.95L361.65,225.94L361.9,228.95L362.89,227.95L363.14,227.95L363.64,228.95L363.89,207.86L364.13,220.92L364.38,226.94L364.88,216.9L365.13,211.88L365.37,228.95L366.37,226.94L366.86,222.93L367.11,228.95L367.36,225.94L368.1,226.94L368.35,214.89L368.6,228.95L368.85,222.93L369.1,222.93L370.09,228.95L371.08,211.88L372.32,228.95L372.57,223.93L373.81,228.95L374.55,226.94L375.3,228.95L375.79,228.95L376.04,210.88L376.54,227.95L376.78,228.95L377.03,228.95L377.28,227.95L378.52,227.95L378.77,222.93L379.02,227.95L379.51,222.93L380.26,213.89L381.5,228.95L381.75,190.79L381.99,224.93L382.99,210.88L383.98,228.95L387.7,228.95L387.95,227.95L388.94,163.68L389.19,227.95L389.44,221.92L390.18,225.94L391.42,224.93L391.67,228.95L391.92,228.95L392.16,227.95L393.16,221.92L393.4,203.85L393.9,226.94L394.4,224.93L394.64,222.93L394.89,228.95L395.14,226.94L395.88,224.93L396.63,226.94L396.88,219.91L397.12,215.9L398.12,228.95L398.36,228.95L398.86,206.86L399.36,210.88L400.1,227.95L400.6,228.95L401.34,219.91L401.84,216.9L402.09,217.9L402.83,228.95L403.57,227.95L403.82,228.95L404.57,163.68L404.81,220.92L405.06,192.8L405.31,228.95L406.05,228.95L406.55,215.9L407.05,228.95L407.54,208.87L408.04,225.94L408.29,214.89L408.53,226.94L408.78,223.93L409.03,228.95L409.28,228.95L409.77,225.94L411.02,228.95L411.51,224.93L412.75,226.94L413,221.92L413.25,228.95L413.74,225.94L414.49,199.83L414.74,227.95L414.98,130.54L415.98,227.95L416.22,226.94L416.72,228.95L416.97,228.95L417.46,185.77L417.71,227.95L419.2,222.93L419.94,227.95L420.19,226.94L420.69,214.89L421.19,228.95L421.68,219.91L422.18,228.95L422.43,168.7L423.42,228.95L423.67,216.9L424.41,223.93L424.66,226.94L425.9,209.87L427.14,222.93L427.63,195.81L428.38,199.83L428.63,227.95L429.62,221.92L429.87,226.94L430.11,227.95L430.61,219.91L431.6,227.95L431.85,226.94L432.1,228.95L432.35,218.91L432.84,227.95L433.84,226.94L434.33,191.8L434.58,227.95L435.08,216.9L435.32,223.93L436.32,227.95L436.56,228.95L437.06,226.94L437.56,220.92L438.3,227.95L438.8,226.94L439.04,213.89L439.29,225.94L439.54,198.83L440.53,228.95L440.78,220.92L441.03,206.86L441.77,225.94L442.27,211.88L442.52,223.93L443.01,219.91L443.51,228.95L443.76,227.95L444.01,212.88L444.75,228.95L445,226.94L445.25,228.95L445.49,224.93L445.99,198.83L446.73,228.95L446.98,219.91L448.22,227.95L448.97,227.95L449.21,227.95L449.46,225.94L449.71,82.34L449.96,228.95L450.21,221.92L450.45,226.94L451.2,228.95L451.45,218.91L451.69,168.7L451.94,228.95L452.69,227.95L452.94,227.95L453.43,228.95L453.68,225.94L453.93,197.82L454.92,228.95L455.17,227.95L455.42,227.95L455.91,224.93L456.16,187.78L456.66,226.94L456.9,197.82L457.4,226.94L458.89,223.93L459.63,158.66L460.62,221.92L460.87,220.92L461.37,227.95L462.11,224.93L462.36,226.94L463.35,213.89L463.6,224.93L463.85,220.92L466.33,222.93L466.83,228.95L467.07,224.93L467.32,215.9L468.31,227.95L468.56,219.91L469.06,227.95L469.31,221.92L469.55,215.9L470.3,226.94L470.55,211.88L471.54,226.94L472.03,225.94L473.28,228.95L473.52,222.93L475.26,228.95L475.51,199.83L476.25,228.95L477.24,213.89L478.24,228.95L478.48,212.88L478.73,226.94L478.98,225.94L480.96,226.94L481.71,228.95L482.2,216.9L482.7,226.94L484.44,228.95L484.69,191.8L485.43,219.91L485.93,191.8L486.17,227.95L486.92,226.94L488.41,226.94L488.9,227.95L489.15,224.93L489.65,211.88L489.89,228.95L490.14,159.66L490.64,225.94L490.89,224.93L491.88,228.95L492.37,228.95L493.12,196.82L493.62,205.85L494.11,227.95L494.61,226.94L494.86,183.76L496.59,228.95L497.09,155.65L498.08,228.95L498.82,214.89L499.07,228.95L500.06,176.73L501.55,228.95L502.05,210.88L502.3,227.95L504.03,208.87L504.78,211.88L505.27,226.94L505.52,220.92L505.77,228.95L506.02,227.95L506.27,227.95L506.51,228.95L506.76,203.85L507.51,228.95L508,226.94L508.25,214.89L509.24,227.95L509.99,228.95L511.23,210.88L512.22,227.95L512.47,227.95L512.71,225.94L512.96,228.95L513.21,157.65L513.71,227.95L513.95,223.93L516.68,227.95L524.12,228.95L531.07,142.59L531.81,227.95L532.06,223.93L532.56,228.95L538.51,226.94L539.01,227.95L539.5,226.94L540,214.89\" style=\"vector-effect: non-scaling-stroke; fill: none; stroke: rgb(99, 110, 250); stroke-opacity: 1; stroke-width: 2px; opacity: 1;\"/></g><g class=\"points\"/><g class=\"text\"/></g></g></g><g class=\"overplot\"/><path class=\"xlines-above crisp\" d=\"M0,0\" style=\"fill: none;\"/><path class=\"ylines-above crisp\" d=\"M0,0\" style=\"fill: none;\"/><g class=\"overlines-above\"/><g class=\"xaxislayer-above\"><g class=\"xtick\"><text text-anchor=\"middle\" x=\"0\" y=\"354\" transform=\"translate(82.73,0)\" style=\"font-family: 'Open Sans', verdana, arial, sans-serif; font-size: 12px; fill: rgb(42, 63, 95); fill-opacity: 1; white-space: pre; opacity: 1;\">2017</text></g><g class=\"xtick\"><text text-anchor=\"middle\" x=\"0\" y=\"354\" style=\"font-family: 'Open Sans', verdana, arial, sans-serif; font-size: 12px; fill: rgb(42, 63, 95); fill-opacity: 1; white-space: pre; opacity: 1;\" transform=\"translate(173.26999999999998,0)\">2018</text></g><g class=\"xtick\"><text text-anchor=\"middle\" x=\"0\" y=\"354\" style=\"font-family: 'Open Sans', verdana, arial, sans-serif; font-size: 12px; fill: rgb(42, 63, 95); fill-opacity: 1; white-space: pre; opacity: 1;\" transform=\"translate(263.8,0)\">2019</text></g><g class=\"xtick\"><text text-anchor=\"middle\" x=\"0\" y=\"354\" style=\"font-family: 'Open Sans', verdana, arial, sans-serif; font-size: 12px; fill: rgb(42, 63, 95); fill-opacity: 1; white-space: pre; opacity: 1;\" transform=\"translate(354.34,0)\">2020</text></g><g class=\"xtick\"><text text-anchor=\"middle\" x=\"0\" y=\"354\" style=\"font-family: 'Open Sans', verdana, arial, sans-serif; font-size: 12px; fill: rgb(42, 63, 95); fill-opacity: 1; white-space: pre; opacity: 1;\" transform=\"translate(445.13,0)\">2021</text></g><g class=\"xtick\"><text text-anchor=\"middle\" x=\"0\" y=\"354\" style=\"font-family: 'Open Sans', verdana, arial, sans-serif; font-size: 12px; fill: rgb(42, 63, 95); fill-opacity: 1; white-space: pre; opacity: 1;\" transform=\"translate(535.6600000000001,0)\">2022</text></g></g><g class=\"yaxislayer-above\"><g class=\"ytick\"><text text-anchor=\"end\" x=\"79\" y=\"4.199999999999999\" transform=\"translate(0,329.95)\" style=\"font-family: 'Open Sans', verdana, arial, sans-serif; font-size: 12px; fill: rgb(42, 63, 95); fill-opacity: 1; white-space: pre; opacity: 1;\">0</text></g><g class=\"ytick\"><text text-anchor=\"end\" x=\"79\" y=\"4.199999999999999\" style=\"font-family: 'Open Sans', verdana, arial, sans-serif; font-size: 12px; fill: rgb(42, 63, 95); fill-opacity: 1; white-space: pre; opacity: 1;\" transform=\"translate(0,279.75)\">50</text></g><g class=\"ytick\"><text text-anchor=\"end\" x=\"79\" y=\"4.199999999999999\" style=\"font-family: 'Open Sans', verdana, arial, sans-serif; font-size: 12px; fill: rgb(42, 63, 95); fill-opacity: 1; white-space: pre; opacity: 1;\" transform=\"translate(0,229.54)\">100</text></g><g class=\"ytick\"><text text-anchor=\"end\" x=\"79\" y=\"4.199999999999999\" style=\"font-family: 'Open Sans', verdana, arial, sans-serif; font-size: 12px; fill: rgb(42, 63, 95); fill-opacity: 1; white-space: pre; opacity: 1;\" transform=\"translate(0,179.32999999999998)\">150</text></g><g class=\"ytick\"><text text-anchor=\"end\" x=\"79\" y=\"4.199999999999999\" style=\"font-family: 'Open Sans', verdana, arial, sans-serif; font-size: 12px; fill: rgb(42, 63, 95); fill-opacity: 1; white-space: pre; opacity: 1;\" transform=\"translate(0,129.12)\">200</text></g></g><g class=\"overaxes-above\"/></g></g><g class=\"polarlayer\"/><g class=\"smithlayer\"/><g class=\"ternarylayer\"/><g class=\"geolayer\"/><g class=\"funnelarealayer\"/><g class=\"pielayer\"/><g class=\"iciclelayer\"/><g class=\"treemaplayer\"/><g class=\"sunburstlayer\"/><g class=\"glimages\"/><defs id=\"topdefs-d0195d\"><g class=\"clips\"/><clipPath id=\"rangesliderx-d0195d\"><rect x=\"0\" y=\"0\" width=\"540\" height=\"48\"/></clipPath></defs><g class=\"layer-above\"><g class=\"imagelayer\"/><g class=\"shapelayer\"/></g><g class=\"infolayer\"><g class=\"rangeselector\" transform=\"translate(80,75)\" style=\"cursor: pointer; pointer-events: all;\"><g class=\"button\" transform=\"\"><rect class=\"selector-rect\" shape-rendering=\"crispEdges\" rx=\"3\" ry=\"3\" x=\"0\" y=\"0\" width=\"30\" height=\"19\" style=\"stroke: rgb(68, 68, 68); stroke-opacity: 1; fill: rgb(238, 238, 238); fill-opacity: 1; stroke-width: 0px;\"/><text class=\"selector-text\" text-anchor=\"middle\" x=\"15\" y=\"12.5\" style=\"font-family: 'Open Sans', verdana, arial, sans-serif; font-size: 12px; fill: rgb(42, 63, 95); fill-opacity: 1; white-space: pre;\">1m</text></g><g class=\"button\" transform=\"translate(35,0)\"><rect class=\"selector-rect\" shape-rendering=\"crispEdges\" rx=\"3\" ry=\"3\" x=\"0\" y=\"0\" width=\"30\" height=\"19\" style=\"stroke: rgb(68, 68, 68); stroke-opacity: 1; fill: rgb(238, 238, 238); fill-opacity: 1; stroke-width: 0px;\"/><text class=\"selector-text\" text-anchor=\"middle\" x=\"15\" y=\"12.5\" style=\"font-family: 'Open Sans', verdana, arial, sans-serif; font-size: 12px; fill: rgb(42, 63, 95); fill-opacity: 1; white-space: pre;\">6m</text></g><g class=\"button\" transform=\"translate(70,0)\"><rect class=\"selector-rect\" shape-rendering=\"crispEdges\" rx=\"3\" ry=\"3\" x=\"0\" y=\"0\" width=\"35.03125\" height=\"19\" style=\"stroke: rgb(68, 68, 68); stroke-opacity: 1; fill: rgb(238, 238, 238); fill-opacity: 1; stroke-width: 0px;\"/><text class=\"selector-text\" text-anchor=\"middle\" x=\"17.515625\" y=\"12.5\" style=\"font-family: 'Open Sans', verdana, arial, sans-serif; font-size: 12px; fill: rgb(42, 63, 95); fill-opacity: 1; white-space: pre;\">YTD</text></g><g class=\"button\" transform=\"translate(110.03125,0)\"><rect class=\"selector-rect\" shape-rendering=\"crispEdges\" rx=\"3\" ry=\"3\" x=\"0\" y=\"0\" width=\"30\" height=\"19\" style=\"stroke: rgb(68, 68, 68); stroke-opacity: 1; fill: rgb(238, 238, 238); fill-opacity: 1; stroke-width: 0px;\"/><text class=\"selector-text\" text-anchor=\"middle\" x=\"15\" y=\"12.5\" style=\"font-family: 'Open Sans', verdana, arial, sans-serif; font-size: 12px; fill: rgb(42, 63, 95); fill-opacity: 1; white-space: pre;\">1y</text></g><g class=\"button\" transform=\"translate(145.03125,0)\"><rect class=\"selector-rect\" shape-rendering=\"crispEdges\" rx=\"3\" ry=\"3\" x=\"0\" y=\"0\" width=\"30\" height=\"19\" style=\"stroke: rgb(68, 68, 68); stroke-opacity: 1; fill: rgb(212, 212, 212); fill-opacity: 1; stroke-width: 0px;\"/><text class=\"selector-text\" text-anchor=\"middle\" x=\"15\" y=\"12.5\" style=\"font-family: 'Open Sans', verdana, arial, sans-serif; font-size: 12px; fill: rgb(42, 63, 95); fill-opacity: 1; white-space: pre;\">all</text></g></g><g class=\"g-gtitle\"><text class=\"gtitle\" x=\"35\" y=\"50\" text-anchor=\"start\" dy=\"0em\" style=\"font-family: 'Open Sans', verdana, arial, sans-serif; font-size: 17px; fill: rgb(42, 63, 95); opacity: 1; font-weight: normal; white-space: pre;\">Chat Time series</text></g><g class=\"rangeslider-container\" pointer-events=\"all\" transform=\"translate(80,372)\"><rect class=\"rangeslider-bg\" x=\"0\" y=\"0\" shape-rendering=\"crispEdges\" width=\"540\" height=\"48\" transform=\"\" fill=\"#E5ECF6\" stroke=\"#444\" stroke-width=\"0\"/><g class=\"rangeslider-rangeplot xy\" clip-path=\"url(#rangesliderx-d0195d)\"><g class=\"layer-subplot\"><g class=\"shapelayer\"/><g class=\"imagelayer\"/></g><g class=\"gridlayer\"><g class=\"x\"/><g class=\"y\"/></g><g class=\"zerolinelayer\"/><path class=\"xlines-below\"/><path class=\"ylines-below\"/><g class=\"overlines-below\"/><g class=\"xaxislayer-below\"/><g class=\"yaxislayer-below\"/><g class=\"overaxes-below\"/><g class=\"plot\"><g class=\"scatterlayer mlayer rangeplot\"><g class=\"trace scatter tracef9eb60\" style=\"stroke-miterlimit: 2; opacity: 1;\"><g class=\"fills\"/><g class=\"errorbars\"/><g class=\"lines\"><path class=\"js-line\" d=\"M0,44.2L14.39,45.6L19.6,44.2L22.32,45.6L24.56,45.6L31.01,45.6L34.73,44.8L38.94,44.4L42.17,45.6L42.66,45.6L43.41,44.2L43.9,45.4L44.15,45L47.38,34.6L50.11,45.4L57.8,45.6L60.28,45.6L60.52,40.2L61.76,45.4L64.24,44.4L66.23,45.6L69.21,44.8L70.2,45.4L73.17,45.6L75.16,45.6L75.65,43.2L76.4,45.6L76.65,45.4L77.14,45.6L77.64,44L77.89,45.6L81.36,45.6L82.1,42.4L82.6,43L83.59,45.6L84.58,45.6L88.06,45.6L89.05,39.4L89.3,45.6L89.55,44.6L90.04,36.6L90.29,45.4L91.28,45.4L91.53,44.8L92.52,45.4L93.02,45.4L93.51,40.8L94.26,45.4L94.75,29L96.24,45.6L96.49,44.2L96.99,42.8L97.73,45.6L98.23,44.8L98.47,45.2L99.72,45.4L100.96,44.6L101.2,43.2L101.95,45.2L102.2,45.4L102.44,44.4L103.93,45.6L105.17,43.4L105.67,45L105.92,43L106.41,45L107.4,40.6L107.9,45.4L110.63,45.6L113.11,45.4L114.1,44.4L116.33,39.8L118.57,44.4L119.81,45.4L120.55,45.2L121.3,40L121.54,44.4L121.79,45L122.54,44.8L123.53,44.8L123.78,34.2L124.27,45.4L125.76,45.4L126.01,44L126.26,45.6L126.75,44.2L127.5,42L127.99,45.4L128.74,45L128.98,43.2L129.23,45.6L129.73,42.6L130.97,45.4L131.47,42.2L134.69,45L134.94,43.6L135.19,45.2L135.68,38.8L137.42,45.6L137.91,44L138.16,29.8L138.41,45.4L138.91,45.2L145.85,42.2L146.1,44L147.09,45L153.54,45.6L154.04,45.4L154.29,42.8L156.27,45.6L160.98,45.2L161.48,43.2L162.22,45.4L166.69,45L167.18,45.6L167.93,45.6L168.42,43.8L168.67,39.8L168.92,45.6L169.66,44.8L172.15,45.6L173.63,45.6L173.88,45.4L174.38,40.6L175.87,42.8L176.11,45.4L176.36,45.6L176.86,43.6L178.84,45.6L179.34,44.4L181.07,45.6L182.07,43.8L183.06,45.6L183.31,44.4L183.8,37.2L184.3,45.4L185.54,42L185.79,44.6L186.53,45.6L186.78,43.6L187.52,45.6L188.27,44.4L189.26,45.4L189.51,44.6L190.5,45.6L190.75,44.4L191.49,45.6L192.98,43.2L193.23,45.4L194.72,45.4L195.71,44.2L196.95,45.6L197.69,45L198.93,45.4L199.18,43.6L200.42,44.8L201.17,45L203.65,44.2L205.14,42.8L205.38,45.4L205.63,45.6L206.38,42L207.86,45.6L208.61,45.4L209.1,42.6L210.34,45.6L211.34,43.2L211.83,45.2L212.08,45.6L212.33,44.6L212.82,45.2L213.82,45.6L214.31,44.4L214.56,44.6L214.81,42.8L216.05,45.4L216.55,45.6L216.79,40.2L217.04,40.6L217.54,44.8L218.03,44.8L219.27,39.8L220.02,45.6L221.01,45.2L221.51,45.4L222,44.6L222.99,44.6L223.74,45.4L224.24,43L224.48,43.8L224.73,45.6L228.45,44.2L229.44,45.6L230.44,44L230.93,45L232.92,44.6L233.41,45.6L233.66,41.4L234.16,41.6L234.65,45.6L237.88,45.6L238.13,43.4L238.87,43.2L239.61,44.2L240.85,45.4L241.85,44.2L244.33,45.6L244.58,45L245.32,45.2L245.82,38.6L246.56,45.4L247.8,45.6L248.05,45L248.3,45.6L248.79,45.6L249.78,45L250.03,45.4L251.52,45.6L251.77,44.8L252.02,45L252.51,43.2L252.76,45.6L253.01,45.4L253.26,43L253.75,45.6L254.5,45L258.22,45.4L258.47,43L258.71,44.4L260.2,45.4L261.94,45L262.19,43.2L262.43,45.6L263.43,45.6L264.42,44.4L265.41,45.4L265.66,45.6L266.4,42.6L266.9,42L267.15,45.6L268.14,45.6L268.39,42.8L269.63,45.6L270.87,45.2L274.09,45.2L274.34,44.4L274.59,45.4L276.08,39.8L276.82,45.4L277.07,43L278.06,45.6L279.05,43.4L279.3,45L279.8,43.2L280.29,45.6L281.04,44.6L283.02,45.4L283.77,44.4L284.01,45.2L284.51,44.6L286,45.6L287.98,45L288.48,44.2L290.22,45.6L290.96,44.8L291.21,45.2L291.46,43L292.7,45.6L293.19,45.6L294.68,45.2L294.93,44.8L295.42,44.4L295.67,45.2L296.17,43.6L296.42,45.6L297.91,45.6L298.65,42.4L300.14,45.6L300.63,45.6L300.88,45L301.13,45.4L301.63,45.4L302.37,45.6L304.6,44L305.59,45.6L306.09,39.8L307.08,45.6L308.32,44L308.57,42.4L309.81,45.6L311.3,44L311.55,45.4L311.8,45.4L312.04,38.6L313.04,45.6L313.28,45.4L313.78,29.8L314.52,45.2L315.02,42.6L319.73,45.4L321.22,42.4L321.97,45.4L322.21,44.6L323.95,43.8L324.94,44.2L325.19,38.6L325.93,45.2L326.18,45L326.43,45.6L327.18,44.8L327.92,45.4L329.16,43L329.41,44L329.9,45.6L330.9,35.8L331.14,36.2L331.39,45.6L331.89,38.8L332.14,42.8L332.38,43.4L333.13,44.2L333.38,41.8L335.36,45.6L336.85,42L338.09,45.4L338.34,45L338.59,2.4L338.83,45.6L339.33,45.4L339.58,44.8L340.32,45L340.57,33.2L340.82,31L341.07,36.2L341.56,45.4L341.81,44.6L342.06,44.2L342.8,45.4L343.3,36.4L344.04,45.6L344.29,41.8L344.79,45.2L345.28,34.4L346.03,45.4L346.27,41.2L346.77,38.4L347.02,43.2L347.27,45.6L348.76,45.4L349,42.2L349.25,45L350.49,42.6L351.24,45.6L351.73,44.8L351.98,41.8L352.23,45L352.72,45.4L352.97,35.8L353.22,43.2L353.72,44L353.96,45.4L354.46,44.8L354.96,45.6L355.45,45L355.7,45.4L356.44,41.4L356.69,45.4L357.19,43.4L357.68,40.6L357.93,45.4L358.18,42L358.68,45.2L359.42,43.8L359.67,45.6L359.92,43L360.41,43.6L360.91,45.6L362.15,45.4L362.89,45.4L363.14,45.4L363.39,41.4L363.64,45.6L364.13,44L364.38,45.2L365.13,42.2L365.37,45.6L366.86,44.4L367.11,45.6L367.36,45L368.1,45.2L368.35,42.8L368.6,45.6L368.85,44.4L369.1,44.4L370.09,45.6L371.08,42.2L372.32,45.6L372.57,44.6L373.81,45.6L374.55,45.2L375.3,45.6L375.79,45.6L376.04,42L376.54,45.4L376.78,45.6L378.52,45.4L378.77,44.4L379.02,45.4L379.51,44.4L380.26,42.6L381.5,45.6L381.75,38L381.99,44.8L382.99,42L383.98,45.6L387.7,45.6L387.95,45.4L388.94,32.6L389.19,45.4L389.44,44.2L390.18,45L391.42,44.8L391.67,45.6L392.16,45.4L392.41,44.6L393.16,44.2L393.4,40.6L393.9,45.2L394.4,44.8L394.64,44.4L394.89,45.6L395.14,45.2L395.88,44.8L396.63,45.2L396.88,43.8L397.12,43L398.12,45.6L398.36,45.6L398.86,41.2L399.36,42L400.1,45.4L400.6,45.6L401.34,43.8L402.09,43.4L402.83,45.6L403.82,45.6L404.07,39.6L404.57,32.6L404.81,44L405.06,38.4L405.31,45.6L406.05,45.6L406.55,43L407.05,45.6L407.54,41.6L408.04,45L408.29,42.8L408.53,45.2L408.78,44.6L409.03,45.6L411.02,45.6L411.51,44.8L412.75,45.2L413,44.2L413.25,45.6L413.74,45L414.49,39.8L414.74,45.4L414.98,26L415.98,45.4L416.22,45.2L416.72,45.6L416.97,45.6L417.46,37L417.71,45.4L419.2,44.4L419.94,45.4L420.19,45.2L420.69,42.8L421.19,45.6L421.68,43.8L422.18,45.6L422.43,33.6L423.42,45.6L423.67,43.2L424.41,44.6L424.66,45.2L425.9,41.8L427.14,44.4L427.63,39L428.38,39.8L428.63,45.4L429.62,44.2L429.87,45.2L430.11,45.4L430.61,43.8L431.6,45.4L431.85,45.2L432.1,45.6L432.35,43.6L432.84,45.4L433.84,45.2L434.33,38.2L434.58,45.4L435.08,43.2L435.32,44.6L436.32,45.4L436.56,45.6L437.56,44L438.3,45.4L438.8,45.2L439.04,42.6L439.29,45L439.54,39.6L440.53,45.6L440.78,44L441.03,41.2L441.77,45L442.27,42.2L442.52,44.6L443.01,43.8L443.51,45.6L443.76,45.4L444.01,42.4L444.75,45.6L445,45.2L445.25,45.6L445.49,44.8L445.99,39.6L446.73,45.6L446.98,43.8L448.22,45.4L448.97,45.4L449.46,45L449.71,16.4L449.96,45.6L450.45,45.2L450.95,45.6L451.2,45.6L451.45,43.6L451.69,33.6L451.94,45.6L452.69,45.4L453.68,45L453.93,39.4L454.92,45.6L455.17,45.4L455.91,44.8L456.16,37.4L457.4,45.2L458.89,44.6L459.63,31.6L460.62,44.2L460.87,44L461.37,45.4L462.11,44.8L462.36,45.2L463.35,42.6L463.6,44.8L463.85,44L466.33,44.4L466.83,45.6L467.07,44.8L467.32,43L468.31,45.4L468.56,43.8L469.06,45.4L469.31,44.2L469.55,43L470.3,45.2L470.55,42.2L471.54,45.2L472.03,45L473.28,45.6L473.52,44.4L475.26,45.6L475.51,39.8L476.25,45.6L477.24,42.6L478.24,45.6L478.48,42.4L478.73,45.2L478.98,45L480.96,45.2L481.71,45.6L482.2,43.2L482.7,45.2L484.44,45.6L484.69,38.2L485.43,43.8L485.93,38.2L486.17,45.4L489.15,44.8L489.65,42.2L489.89,45.6L490.14,31.8L491.13,45.4L491.88,45.6L492.37,45.6L493.12,39.2L494.11,45.4L494.61,45.2L494.86,36.6L496.59,45.6L497.09,31L498.08,45.6L498.82,42.8L499.07,45.6L500.06,35.2L501.55,45.6L502.05,42L502.3,45.4L504.03,41.6L504.78,42.2L505.27,45.2L505.52,44L505.77,45.6L506.02,45.4L506.51,45.6L506.76,40.6L507.51,45.6L508,45.2L508.25,42.8L509.24,45.4L509.99,45.6L511.23,42L512.22,45.4L512.96,45.6L513.21,31.4L513.71,45.4L513.95,44.6L516.68,45.4L524.12,45.6L531.07,28.4L531.81,45.4L532.06,44.6L532.56,45.6L539.5,45.2L540,42.8\" style=\"vector-effect: non-scaling-stroke; fill: none; stroke: rgb(99, 110, 250); stroke-opacity: 1; stroke-width: 2px; opacity: 1;\"/></g><g class=\"points\"/><g class=\"text\"/></g></g></g><g class=\"overplot\"/><path class=\"xlines-above crisp\" style=\"fill: none;\"/><path class=\"ylines-above crisp\" style=\"fill: none;\"/><g class=\"overlines-above\"/><g class=\"xaxislayer-above\"/><g class=\"yaxislayer-above\"/><g class=\"overaxes-above\"/></g><rect class=\"rangeslider-mask-min\" x=\"0\" y=\"0\" shape-rendering=\"crispEdges\" height=\"48\" width=\"0\" style=\"fill: rgb(0, 0, 0); fill-opacity: 0.4;\"/><rect class=\"rangeslider-mask-max\" y=\"0\" shape-rendering=\"crispEdges\" height=\"48\" x=\"540\" width=\"0\" style=\"fill: rgb(0, 0, 0); fill-opacity: 0.4;\"/><g class=\"rangeslider-grabber-min\" transform=\"translate(-2.5,0.5)\"><rect class=\"rangeslider-handle-min\" x=\"0\" width=\"4\" rx=\"1\" fill=\"#fff\" stroke=\"#444\" stroke-width=\"1\" shape-rendering=\"crispEdges\" y=\"12\" height=\"24\"/><rect class=\"rangeslider-grabarea-min\" width=\"10\" x=\"0\" y=\"0\" fill=\"transparent\" height=\"48\"/></g><g class=\"rangeslider-grabber-max\" transform=\"translate(538.5,0.5)\"><rect class=\"rangeslider-handle-max\" x=\"0\" width=\"4\" rx=\"1\" fill=\"#fff\" stroke=\"#444\" stroke-width=\"1\" shape-rendering=\"crispEdges\" y=\"12\" height=\"24\"/><rect class=\"rangeslider-grabarea-max\" width=\"10\" x=\"0\" y=\"0\" fill=\"transparent\" height=\"48\"/></g></g><g class=\"g-ytitle\"/><g class=\"g-xtitle\"/></g></svg>"
     },
     "metadata": {},
     "output_type": "display_data"
    }
   ],
   "source": [
    "fig = go.Figure()\n",
    "fig.add_trace(\n",
    "    go.Line(x=df_date.Date, y=df_date.Message))\n",
    "\n",
    "# Set title\n",
    "fig.update_layout(\n",
    "    title_text=\"Chat Time series\"\n",
    ")\n",
    "fig.update_layout(\n",
    "    xaxis=dict(\n",
    "        rangeselector=dict(\n",
    "            buttons=list([\n",
    "                dict(count=1,\n",
    "                     label=\"1m\",\n",
    "                     step=\"month\",\n",
    "                     stepmode=\"backward\"),\n",
    "                dict(count=6,\n",
    "                     label=\"6m\",\n",
    "                     step=\"month\",\n",
    "                     stepmode=\"backward\"),\n",
    "                dict(count=1,\n",
    "                     label=\"YTD\",\n",
    "                     step=\"year\",\n",
    "                     stepmode=\"todate\"),\n",
    "                dict(count=1,\n",
    "                     label=\"1y\",\n",
    "                     step=\"year\",\n",
    "                     stepmode=\"backward\"),\n",
    "                dict(step=\"all\")\n",
    "            ])\n",
    "        ),\n",
    "        rangeslider=dict(\n",
    "            visible=True\n",
    "        ),\n",
    "        type=\"date\"\n",
    "    )\n",
    ")\n",
    "\n",
    "fig.show(\"svg\")"
   ]
  },
  {
   "cell_type": "code",
   "execution_count": 57,
   "id": "96da4851",
   "metadata": {},
   "outputs": [
    {
     "data": {
      "text/plain": [
       "Sara      4277\n",
       "Hisham    3292\n",
       "Name: User, dtype: int64"
      ]
     },
     "execution_count": 57,
     "metadata": {},
     "output_type": "execute_result"
    }
   ],
   "source": [
    "df['User'].value_counts()"
   ]
  },
  {
   "cell_type": "code",
   "execution_count": 76,
   "id": "236ae873",
   "metadata": {},
   "outputs": [
    {
     "data": {
      "image/svg+xml": "<svg class=\"main-svg\" xmlns=\"http://www.w3.org/2000/svg\" xmlns:xlink=\"http://www.w3.org/1999/xlink\" width=\"700\" height=\"500\" style=\"\" viewBox=\"0 0 700 500\"><rect x=\"0\" y=\"0\" width=\"700\" height=\"500\" style=\"fill: rgb(255, 255, 255); fill-opacity: 1;\"/><defs id=\"defs-7fa629\"><g class=\"clips\"/><g class=\"gradients\"/><g class=\"patterns\"/></defs><g class=\"bglayer\"/><g class=\"layer-below\"><g class=\"imagelayer\"/><g class=\"shapelayer\"/></g><g class=\"cartesianlayer\"/><g class=\"polarlayer\"/><g class=\"smithlayer\"/><g class=\"ternarylayer\"/><g class=\"geolayer\"/><g class=\"funnelarealayer\"/><g class=\"pielayer\"><g class=\"trace\" stroke-linejoin=\"round\" style=\"opacity: 1;\"><g class=\"slice\"><path class=\"surface\" d=\"M333.5,240l0,-180a180,180 0 1 1 -71.55723702616368,345.1652561199886Z\" style=\"pointer-events: all; stroke-width: 0; fill: rgb(99, 110, 250); fill-opacity: 1; stroke: rgb(68, 68, 68); stroke-opacity: 1;\"/><g class=\"slicetext\"><text data-notex=\"1\" class=\"slicetext\" transform=\"translate(421.5870872099456,262.76969450484205)\" text-anchor=\"middle\" x=\"0\" y=\"0\" style=\"font-family: 'Open Sans', verdana, arial, sans-serif; font-size: 12px; fill: rgb(255, 255, 255); fill-opacity: 1; white-space: pre;\">56.5%</text></g></g><g class=\"slice\"><path class=\"surface\" d=\"M333.5,240l-71.55723702616379,165.16525611998856a180,180 0 0 1 71.55723702616379,-345.16525611998856Z\" style=\"pointer-events: all; stroke-width: 0; fill: rgb(239, 85, 59); fill-opacity: 1; stroke: rgb(68, 68, 68); stroke-opacity: 1;\"/><g class=\"slicetext\"><text data-notex=\"1\" class=\"slicetext\" transform=\"translate(244.40771890396297,226.03811208389936)\" text-anchor=\"middle\" x=\"0\" y=\"0\" style=\"font-family: 'Open Sans', verdana, arial, sans-serif; font-size: 12px; fill: rgb(68, 68, 68); fill-opacity: 1; white-space: pre;\">43.5%</text></g></g></g></g><g class=\"iciclelayer\"/><g class=\"treemaplayer\"/><g class=\"sunburstlayer\"/><g class=\"glimages\"/><defs id=\"topdefs-7fa629\"><g class=\"clips\"/><clipPath id=\"legend7fa629\"><rect width=\"91\" height=\"48\" x=\"0\" y=\"0\"/></clipPath></defs><g class=\"layer-above\"><g class=\"imagelayer\"/><g class=\"shapelayer\"/></g><g class=\"infolayer\"><g class=\"legend\" pointer-events=\"all\" transform=\"translate(597.14,60)\"><rect class=\"bg\" shape-rendering=\"crispEdges\" width=\"91\" height=\"48\" x=\"0\" y=\"0\" style=\"stroke: rgb(68, 68, 68); stroke-opacity: 1; fill: rgb(255, 255, 255); fill-opacity: 1; stroke-width: 0px;\"/><g class=\"scrollbox\" transform=\"\" clip-path=\"url(#legend7fa629)\"><g class=\"groups\"><g class=\"traces\" transform=\"translate(0,14.5)\" style=\"opacity: 1;\"><text class=\"legendtext\" text-anchor=\"start\" x=\"40\" y=\"4.680000000000001\" style=\"font-family: 'Open Sans', verdana, arial, sans-serif; font-size: 12px; fill: rgb(42, 63, 95); fill-opacity: 1; white-space: pre;\">Sara</text><g class=\"layers\" style=\"opacity: 1;\"><g class=\"legendfill\"/><g class=\"legendlines\"/><g class=\"legendsymbols\"><g class=\"legendpoints\"><path class=\"legendpie\" d=\"M6,6H-6V-6H6Z\" transform=\"translate(20,0)\" style=\"stroke-width: 0; fill: rgb(99, 110, 250); fill-opacity: 1; stroke: rgb(68, 68, 68); stroke-opacity: 1;\"/></g></g></g><rect class=\"legendtoggle\" x=\"0\" y=\"-9.5\" width=\"85.046875\" height=\"19\" style=\"fill: rgb(0, 0, 0); fill-opacity: 0;\"/></g><g class=\"traces\" transform=\"translate(0,33.5)\" style=\"opacity: 1;\"><text class=\"legendtext\" text-anchor=\"start\" x=\"40\" y=\"4.680000000000001\" style=\"font-family: 'Open Sans', verdana, arial, sans-serif; font-size: 12px; fill: rgb(42, 63, 95); fill-opacity: 1; white-space: pre;\">Hisham</text><g class=\"layers\" style=\"opacity: 1;\"><g class=\"legendfill\"/><g class=\"legendlines\"/><g class=\"legendsymbols\"><g class=\"legendpoints\"><path class=\"legendpie\" d=\"M6,6H-6V-6H6Z\" transform=\"translate(20,0)\" style=\"stroke-width: 0; fill: rgb(239, 85, 59); fill-opacity: 1; stroke: rgb(68, 68, 68); stroke-opacity: 1;\"/></g></g></g><rect class=\"legendtoggle\" x=\"0\" y=\"-9.5\" width=\"85.046875\" height=\"19\" style=\"fill: rgb(0, 0, 0); fill-opacity: 0;\"/></g></g></g><rect class=\"scrollbar\" rx=\"20\" ry=\"3\" width=\"0\" height=\"0\" x=\"0\" y=\"0\" style=\"fill: rgb(128, 139, 164); fill-opacity: 1;\"/></g><g class=\"g-gtitle\"/></g></svg>"
     },
     "metadata": {},
     "output_type": "display_data"
    }
   ],
   "source": [
    "fig = px.pie(df, values=df['User'].value_counts().values, names=df['User'].value_counts().index)\n",
    "fig.show(\"svg\")"
   ]
  },
  {
   "cell_type": "code",
   "execution_count": 59,
   "id": "63312ffa",
   "metadata": {},
   "outputs": [
    {
     "data": {
      "text/html": [
       "<div>\n",
       "<style scoped>\n",
       "    .dataframe tbody tr th:only-of-type {\n",
       "        vertical-align: middle;\n",
       "    }\n",
       "\n",
       "    .dataframe tbody tr th {\n",
       "        vertical-align: top;\n",
       "    }\n",
       "\n",
       "    .dataframe thead th {\n",
       "        text-align: right;\n",
       "    }\n",
       "</style>\n",
       "<table border=\"1\" class=\"dataframe\">\n",
       "  <thead>\n",
       "    <tr style=\"text-align: right;\">\n",
       "      <th></th>\n",
       "      <th>Message</th>\n",
       "    </tr>\n",
       "    <tr>\n",
       "      <th>Day</th>\n",
       "      <th></th>\n",
       "    </tr>\n",
       "  </thead>\n",
       "  <tbody>\n",
       "    <tr>\n",
       "      <th>Wednesday</th>\n",
       "      <td>1531</td>\n",
       "    </tr>\n",
       "    <tr>\n",
       "      <th>Friday</th>\n",
       "      <td>1254</td>\n",
       "    </tr>\n",
       "    <tr>\n",
       "      <th>Monday</th>\n",
       "      <td>1166</td>\n",
       "    </tr>\n",
       "    <tr>\n",
       "      <th>Tuesday</th>\n",
       "      <td>1064</td>\n",
       "    </tr>\n",
       "    <tr>\n",
       "      <th>Sunday</th>\n",
       "      <td>948</td>\n",
       "    </tr>\n",
       "    <tr>\n",
       "      <th>Thursday</th>\n",
       "      <td>878</td>\n",
       "    </tr>\n",
       "    <tr>\n",
       "      <th>Saturday</th>\n",
       "      <td>728</td>\n",
       "    </tr>\n",
       "  </tbody>\n",
       "</table>\n",
       "</div>"
      ],
      "text/plain": [
       "           Message\n",
       "Day               \n",
       "Wednesday     1531\n",
       "Friday        1254\n",
       "Monday        1166\n",
       "Tuesday       1064\n",
       "Sunday         948\n",
       "Thursday       878\n",
       "Saturday       728"
      ]
     },
     "execution_count": 59,
     "metadata": {},
     "output_type": "execute_result"
    }
   ],
   "source": [
    "df.groupby('Day').agg({'Message':'count'}).sort_values(by='Message',ascending=False)"
   ]
  },
  {
   "cell_type": "code",
   "execution_count": 75,
   "id": "9d9e6054",
   "metadata": {},
   "outputs": [
    {
     "data": {
      "image/svg+xml": "<svg class=\"main-svg\" xmlns=\"http://www.w3.org/2000/svg\" xmlns:xlink=\"http://www.w3.org/1999/xlink\" width=\"700\" height=\"500\" style=\"\" viewBox=\"0 0 700 500\"><rect x=\"0\" y=\"0\" width=\"700\" height=\"500\" style=\"fill: rgb(255, 255, 255); fill-opacity: 1;\"/><defs id=\"defs-08cebd\"><g class=\"clips\"><clipPath id=\"clip08cebdxyplot\" class=\"plotclip\"><rect width=\"540\" height=\"320\"/></clipPath><clipPath class=\"axesclip\" id=\"clip08cebdx\"><rect x=\"80\" y=\"0\" width=\"540\" height=\"500\"/></clipPath><clipPath class=\"axesclip\" id=\"clip08cebdy\"><rect x=\"0\" y=\"100\" width=\"700\" height=\"320\"/></clipPath><clipPath class=\"axesclip\" id=\"clip08cebdxy\"><rect x=\"80\" y=\"100\" width=\"540\" height=\"320\"/></clipPath></g><g class=\"gradients\"/><g class=\"patterns\"/></defs><g class=\"bglayer\"><rect class=\"bg\" x=\"80\" y=\"100\" width=\"540\" height=\"320\" style=\"fill: rgb(229, 236, 246); fill-opacity: 1; stroke-width: 0;\"/></g><g class=\"layer-below\"><g class=\"imagelayer\"/><g class=\"shapelayer\"/></g><g class=\"cartesianlayer\"><g class=\"subplot xy\"><g class=\"layer-subplot\"><g class=\"shapelayer\"/><g class=\"imagelayer\"/></g><g class=\"gridlayer\"><g class=\"x\"/><g class=\"y\"><path class=\"ygrid crisp\" transform=\"translate(0,380.29)\" d=\"M80,0h540\" style=\"stroke: rgb(255, 255, 255); stroke-opacity: 1; stroke-width: 1px;\"/><path class=\"ygrid crisp\" transform=\"translate(0,340.57)\" d=\"M80,0h540\" style=\"stroke: rgb(255, 255, 255); stroke-opacity: 1; stroke-width: 1px;\"/><path class=\"ygrid crisp\" transform=\"translate(0,300.86)\" d=\"M80,0h540\" style=\"stroke: rgb(255, 255, 255); stroke-opacity: 1; stroke-width: 1px;\"/><path class=\"ygrid crisp\" transform=\"translate(0,261.15)\" d=\"M80,0h540\" style=\"stroke: rgb(255, 255, 255); stroke-opacity: 1; stroke-width: 1px;\"/><path class=\"ygrid crisp\" transform=\"translate(0,221.44)\" d=\"M80,0h540\" style=\"stroke: rgb(255, 255, 255); stroke-opacity: 1; stroke-width: 1px;\"/><path class=\"ygrid crisp\" transform=\"translate(0,181.72)\" d=\"M80,0h540\" style=\"stroke: rgb(255, 255, 255); stroke-opacity: 1; stroke-width: 1px;\"/><path class=\"ygrid crisp\" transform=\"translate(0,142.01)\" d=\"M80,0h540\" style=\"stroke: rgb(255, 255, 255); stroke-opacity: 1; stroke-width: 1px;\"/><path class=\"ygrid crisp\" transform=\"translate(0,102.3)\" d=\"M80,0h540\" style=\"stroke: rgb(255, 255, 255); stroke-opacity: 1; stroke-width: 1px;\"/></g></g><g class=\"zerolinelayer\"><path class=\"yzl zl crisp\" transform=\"translate(0,420)\" d=\"M80,0h540\" style=\"stroke: rgb(255, 255, 255); stroke-opacity: 1; stroke-width: 2px;\"/></g><path class=\"xlines-below\"/><path class=\"ylines-below\"/><g class=\"overlines-below\"/><g class=\"xaxislayer-below\"/><g class=\"yaxislayer-below\"/><g class=\"overaxes-below\"/><g class=\"plot\" transform=\"translate(80,100)\" clip-path=\"url(#clip08cebdxyplot)\"><g class=\"barlayer mlayer\"><g class=\"trace bars\" style=\"opacity: 1;\"><g class=\"points\"><g class=\"point\"><path d=\"M7.71,320V16H69.43V320Z\" style=\"vector-effect: non-scaling-stroke; opacity: 1; stroke-width: 0.5px; fill: rgb(99, 110, 250); fill-opacity: 1; stroke: rgb(229, 236, 246); stroke-opacity: 1;\"/></g><g class=\"point\"><path d=\"M84.86,320V71H146.57V320Z\" style=\"vector-effect: non-scaling-stroke; opacity: 1; stroke-width: 0.5px; fill: rgb(99, 110, 250); fill-opacity: 1; stroke: rgb(229, 236, 246); stroke-opacity: 1;\"/></g><g class=\"point\"><path d=\"M162,320V88.48H223.71V320Z\" style=\"vector-effect: non-scaling-stroke; opacity: 1; stroke-width: 0.5px; fill: rgb(99, 110, 250); fill-opacity: 1; stroke: rgb(229, 236, 246); stroke-opacity: 1;\"/></g><g class=\"point\"><path d=\"M239.14,320V108.73H300.86V320Z\" style=\"vector-effect: non-scaling-stroke; opacity: 1; stroke-width: 0.5px; fill: rgb(99, 110, 250); fill-opacity: 1; stroke: rgb(229, 236, 246); stroke-opacity: 1;\"/></g><g class=\"point\"><path d=\"M316.29,320V131.76H378V320Z\" style=\"vector-effect: non-scaling-stroke; opacity: 1; stroke-width: 0.5px; fill: rgb(99, 110, 250); fill-opacity: 1; stroke: rgb(229, 236, 246); stroke-opacity: 1;\"/></g><g class=\"point\"><path d=\"M393.43,320V145.66H455.14V320Z\" style=\"vector-effect: non-scaling-stroke; opacity: 1; stroke-width: 0.5px; fill: rgb(99, 110, 250); fill-opacity: 1; stroke: rgb(229, 236, 246); stroke-opacity: 1;\"/></g><g class=\"point\"><path d=\"M470.57,320V175.45H532.29V320Z\" style=\"vector-effect: non-scaling-stroke; opacity: 1; stroke-width: 0.5px; fill: rgb(99, 110, 250); fill-opacity: 1; stroke: rgb(229, 236, 246); stroke-opacity: 1;\"/></g></g></g></g></g><g class=\"overplot\"/><path class=\"xlines-above crisp\" d=\"M0,0\" style=\"fill: none;\"/><path class=\"ylines-above crisp\" d=\"M0,0\" style=\"fill: none;\"/><g class=\"overlines-above\"/><g class=\"xaxislayer-above\"><g class=\"xtick\"><text text-anchor=\"middle\" x=\"0\" y=\"433\" transform=\"translate(118.57,0)\" style=\"font-family: 'Open Sans', verdana, arial, sans-serif; font-size: 12px; fill: rgb(42, 63, 95); fill-opacity: 1; white-space: pre; opacity: 1;\">Wednesday</text></g><g class=\"xtick\"><text text-anchor=\"middle\" x=\"0\" y=\"433\" transform=\"translate(195.70999999999998,0)\" style=\"font-family: 'Open Sans', verdana, arial, sans-serif; font-size: 12px; fill: rgb(42, 63, 95); fill-opacity: 1; white-space: pre; opacity: 1;\">Friday</text></g><g class=\"xtick\"><text text-anchor=\"middle\" x=\"0\" y=\"433\" transform=\"translate(272.86,0)\" style=\"font-family: 'Open Sans', verdana, arial, sans-serif; font-size: 12px; fill: rgb(42, 63, 95); fill-opacity: 1; white-space: pre; opacity: 1;\">Monday</text></g><g class=\"xtick\"><text text-anchor=\"middle\" x=\"0\" y=\"433\" transform=\"translate(350,0)\" style=\"font-family: 'Open Sans', verdana, arial, sans-serif; font-size: 12px; fill: rgb(42, 63, 95); fill-opacity: 1; white-space: pre; opacity: 1;\">Tuesday</text></g><g class=\"xtick\"><text text-anchor=\"middle\" x=\"0\" y=\"433\" transform=\"translate(427.14,0)\" style=\"font-family: 'Open Sans', verdana, arial, sans-serif; font-size: 12px; fill: rgb(42, 63, 95); fill-opacity: 1; white-space: pre; opacity: 1;\">Sunday</text></g><g class=\"xtick\"><text text-anchor=\"middle\" x=\"0\" y=\"433\" transform=\"translate(504.29,0)\" style=\"font-family: 'Open Sans', verdana, arial, sans-serif; font-size: 12px; fill: rgb(42, 63, 95); fill-opacity: 1; white-space: pre; opacity: 1;\">Thursday</text></g><g class=\"xtick\"><text text-anchor=\"middle\" x=\"0\" y=\"433\" transform=\"translate(581.4300000000001,0)\" style=\"font-family: 'Open Sans', verdana, arial, sans-serif; font-size: 12px; fill: rgb(42, 63, 95); fill-opacity: 1; white-space: pre; opacity: 1;\">Saturday</text></g></g><g class=\"yaxislayer-above\"><g class=\"ytick\"><text text-anchor=\"end\" x=\"79\" y=\"4.199999999999999\" transform=\"translate(0,420)\" style=\"font-family: 'Open Sans', verdana, arial, sans-serif; font-size: 12px; fill: rgb(42, 63, 95); fill-opacity: 1; white-space: pre; opacity: 1;\">0</text></g><g class=\"ytick\"><text text-anchor=\"end\" x=\"79\" y=\"4.199999999999999\" style=\"font-family: 'Open Sans', verdana, arial, sans-serif; font-size: 12px; fill: rgb(42, 63, 95); fill-opacity: 1; white-space: pre; opacity: 1;\" transform=\"translate(0,380.29)\">200</text></g><g class=\"ytick\"><text text-anchor=\"end\" x=\"79\" y=\"4.199999999999999\" style=\"font-family: 'Open Sans', verdana, arial, sans-serif; font-size: 12px; fill: rgb(42, 63, 95); fill-opacity: 1; white-space: pre; opacity: 1;\" transform=\"translate(0,340.57)\">400</text></g><g class=\"ytick\"><text text-anchor=\"end\" x=\"79\" y=\"4.199999999999999\" style=\"font-family: 'Open Sans', verdana, arial, sans-serif; font-size: 12px; fill: rgb(42, 63, 95); fill-opacity: 1; white-space: pre; opacity: 1;\" transform=\"translate(0,300.86)\">600</text></g><g class=\"ytick\"><text text-anchor=\"end\" x=\"79\" y=\"4.199999999999999\" style=\"font-family: 'Open Sans', verdana, arial, sans-serif; font-size: 12px; fill: rgb(42, 63, 95); fill-opacity: 1; white-space: pre; opacity: 1;\" transform=\"translate(0,261.15)\">800</text></g><g class=\"ytick\"><text text-anchor=\"end\" x=\"79\" y=\"4.199999999999999\" style=\"font-family: 'Open Sans', verdana, arial, sans-serif; font-size: 12px; fill: rgb(42, 63, 95); fill-opacity: 1; white-space: pre; opacity: 1;\" transform=\"translate(0,221.44)\">1000</text></g><g class=\"ytick\"><text text-anchor=\"end\" x=\"79\" y=\"4.199999999999999\" style=\"font-family: 'Open Sans', verdana, arial, sans-serif; font-size: 12px; fill: rgb(42, 63, 95); fill-opacity: 1; white-space: pre; opacity: 1;\" transform=\"translate(0,181.72)\">1200</text></g><g class=\"ytick\"><text text-anchor=\"end\" x=\"79\" y=\"4.199999999999999\" style=\"font-family: 'Open Sans', verdana, arial, sans-serif; font-size: 12px; fill: rgb(42, 63, 95); fill-opacity: 1; white-space: pre; opacity: 1;\" transform=\"translate(0,142.01)\">1400</text></g><g class=\"ytick\"><text text-anchor=\"end\" x=\"79\" y=\"4.199999999999999\" style=\"font-family: 'Open Sans', verdana, arial, sans-serif; font-size: 12px; fill: rgb(42, 63, 95); fill-opacity: 1; white-space: pre; opacity: 1;\" transform=\"translate(0,102.3)\">1600</text></g></g><g class=\"overaxes-above\"/></g></g><g class=\"polarlayer\"/><g class=\"smithlayer\"/><g class=\"ternarylayer\"/><g class=\"geolayer\"/><g class=\"funnelarealayer\"/><g class=\"pielayer\"/><g class=\"iciclelayer\"/><g class=\"treemaplayer\"/><g class=\"sunburstlayer\"/><g class=\"glimages\"/><defs id=\"topdefs-08cebd\"><g class=\"clips\"/></defs><g class=\"layer-above\"><g class=\"imagelayer\"/><g class=\"shapelayer\"/></g><g class=\"infolayer\"><g class=\"g-gtitle\"><text class=\"gtitle\" x=\"35\" y=\"50\" text-anchor=\"start\" dy=\"0em\" style=\"font-family: 'Open Sans', verdana, arial, sans-serif; font-size: 17px; fill: rgb(42, 63, 95); opacity: 1; font-weight: normal; white-space: pre;\">Messages Per Day</text></g><g class=\"g-xtitle\"><text class=\"xtitle\" x=\"350\" y=\"460.8\" text-anchor=\"middle\" style=\"font-family: 'Open Sans', verdana, arial, sans-serif; font-size: 14px; fill: rgb(42, 63, 95); opacity: 1; font-weight: normal; white-space: pre;\">Day</text></g><g class=\"g-ytitle\"><text class=\"ytitle\" transform=\"rotate(-90,23.684375000000003,260)\" x=\"23.684375000000003\" y=\"260\" text-anchor=\"middle\" style=\"font-family: 'Open Sans', verdana, arial, sans-serif; font-size: 14px; fill: rgb(42, 63, 95); opacity: 1; font-weight: normal; white-space: pre;\">Message</text></g></g></svg>"
     },
     "metadata": {},
     "output_type": "display_data"
    }
   ],
   "source": [
    "df_day = df.groupby('Day').agg({'Message':'count'}).sort_values(by='Message',ascending=False).reset_index()\n",
    "fig = px.bar(df_day, x='Day', y='Message',title='Messages Per Day')\n",
    "fig.show(\"svg\")"
   ]
  },
  {
   "cell_type": "code",
   "execution_count": 61,
   "id": "7120c80c",
   "metadata": {},
   "outputs": [
    {
     "data": {
      "text/html": [
       "<div>\n",
       "<style scoped>\n",
       "    .dataframe tbody tr th:only-of-type {\n",
       "        vertical-align: middle;\n",
       "    }\n",
       "\n",
       "    .dataframe tbody tr th {\n",
       "        vertical-align: top;\n",
       "    }\n",
       "\n",
       "    .dataframe thead th {\n",
       "        text-align: right;\n",
       "    }\n",
       "</style>\n",
       "<table border=\"1\" class=\"dataframe\">\n",
       "  <thead>\n",
       "    <tr style=\"text-align: right;\">\n",
       "      <th></th>\n",
       "      <th>Message</th>\n",
       "    </tr>\n",
       "    <tr>\n",
       "      <th>Month</th>\n",
       "      <th></th>\n",
       "    </tr>\n",
       "  </thead>\n",
       "  <tbody>\n",
       "    <tr>\n",
       "      <th>June</th>\n",
       "      <td>878</td>\n",
       "    </tr>\n",
       "    <tr>\n",
       "      <th>August</th>\n",
       "      <td>785</td>\n",
       "    </tr>\n",
       "    <tr>\n",
       "      <th>September</th>\n",
       "      <td>728</td>\n",
       "    </tr>\n",
       "    <tr>\n",
       "      <th>May</th>\n",
       "      <td>717</td>\n",
       "    </tr>\n",
       "    <tr>\n",
       "      <th>December</th>\n",
       "      <td>714</td>\n",
       "    </tr>\n",
       "    <tr>\n",
       "      <th>January</th>\n",
       "      <td>682</td>\n",
       "    </tr>\n",
       "    <tr>\n",
       "      <th>July</th>\n",
       "      <td>664</td>\n",
       "    </tr>\n",
       "    <tr>\n",
       "      <th>November</th>\n",
       "      <td>645</td>\n",
       "    </tr>\n",
       "    <tr>\n",
       "      <th>October</th>\n",
       "      <td>600</td>\n",
       "    </tr>\n",
       "    <tr>\n",
       "      <th>April</th>\n",
       "      <td>459</td>\n",
       "    </tr>\n",
       "    <tr>\n",
       "      <th>February</th>\n",
       "      <td>349</td>\n",
       "    </tr>\n",
       "    <tr>\n",
       "      <th>March</th>\n",
       "      <td>348</td>\n",
       "    </tr>\n",
       "  </tbody>\n",
       "</table>\n",
       "</div>"
      ],
      "text/plain": [
       "           Message\n",
       "Month             \n",
       "June           878\n",
       "August         785\n",
       "September      728\n",
       "May            717\n",
       "December       714\n",
       "January        682\n",
       "July           664\n",
       "November       645\n",
       "October        600\n",
       "April          459\n",
       "February       349\n",
       "March          348"
      ]
     },
     "execution_count": 61,
     "metadata": {},
     "output_type": "execute_result"
    }
   ],
   "source": [
    "df.groupby('Month').agg({'Message':'count'}).sort_values(by='Message',ascending=False)"
   ]
  },
  {
   "cell_type": "code",
   "execution_count": 74,
   "id": "aa2fd157",
   "metadata": {},
   "outputs": [
    {
     "data": {
      "image/svg+xml": "<svg class=\"main-svg\" xmlns=\"http://www.w3.org/2000/svg\" xmlns:xlink=\"http://www.w3.org/1999/xlink\" width=\"700\" height=\"500\" style=\"\" viewBox=\"0 0 700 500\"><rect x=\"0\" y=\"0\" width=\"700\" height=\"500\" style=\"fill: rgb(255, 255, 255); fill-opacity: 1;\"/><defs id=\"defs-751cbc\"><g class=\"clips\"><clipPath id=\"clip751cbcxyplot\" class=\"plotclip\"><rect width=\"540\" height=\"315\"/></clipPath><clipPath class=\"axesclip\" id=\"clip751cbcx\"><rect x=\"80\" y=\"0\" width=\"540\" height=\"500\"/></clipPath><clipPath class=\"axesclip\" id=\"clip751cbcy\"><rect x=\"0\" y=\"100\" width=\"700\" height=\"315\"/></clipPath><clipPath class=\"axesclip\" id=\"clip751cbcxy\"><rect x=\"80\" y=\"100\" width=\"540\" height=\"315\"/></clipPath></g><g class=\"gradients\"/><g class=\"patterns\"/></defs><g class=\"bglayer\"><rect class=\"bg\" x=\"80\" y=\"100\" width=\"540\" height=\"315\" style=\"fill: rgb(229, 236, 246); fill-opacity: 1; stroke-width: 0;\"/></g><g class=\"layer-below\"><g class=\"imagelayer\"/><g class=\"shapelayer\"/></g><g class=\"cartesianlayer\"><g class=\"subplot xy\"><g class=\"layer-subplot\"><g class=\"shapelayer\"/><g class=\"imagelayer\"/></g><g class=\"gridlayer\"><g class=\"x\"/><g class=\"y\"><path class=\"ygrid crisp\" transform=\"translate(0,346.83000000000004)\" d=\"M80,0h540\" style=\"stroke: rgb(255, 255, 255); stroke-opacity: 1; stroke-width: 1px;\"/><path class=\"ygrid crisp\" transform=\"translate(0,278.66999999999996)\" d=\"M80,0h540\" style=\"stroke: rgb(255, 255, 255); stroke-opacity: 1; stroke-width: 1px;\"/><path class=\"ygrid crisp\" transform=\"translate(0,210.5)\" d=\"M80,0h540\" style=\"stroke: rgb(255, 255, 255); stroke-opacity: 1; stroke-width: 1px;\"/><path class=\"ygrid crisp\" transform=\"translate(0,142.32999999999998)\" d=\"M80,0h540\" style=\"stroke: rgb(255, 255, 255); stroke-opacity: 1; stroke-width: 1px;\"/></g></g><g class=\"zerolinelayer\"><path class=\"yzl zl crisp\" transform=\"translate(0,415)\" d=\"M80,0h540\" style=\"stroke: rgb(255, 255, 255); stroke-opacity: 1; stroke-width: 2px;\"/></g><path class=\"xlines-below\"/><path class=\"ylines-below\"/><g class=\"overlines-below\"/><g class=\"xaxislayer-below\"/><g class=\"yaxislayer-below\"/><g class=\"overaxes-below\"/><g class=\"plot\" transform=\"translate(80,100)\" clip-path=\"url(#clip751cbcxyplot)\"><g class=\"barlayer mlayer\"><g class=\"trace bars\" style=\"opacity: 1;\"><g class=\"points\"><g class=\"point\"><path d=\"M4.5,315V15.75H40.5V315Z\" style=\"vector-effect: non-scaling-stroke; opacity: 1; stroke-width: 0.5px; fill: rgb(99, 110, 250); fill-opacity: 1; stroke: rgb(229, 236, 246); stroke-opacity: 1;\"/></g><g class=\"point\"><path d=\"M49.5,315V47.45H85.5V315Z\" style=\"vector-effect: non-scaling-stroke; opacity: 1; stroke-width: 0.5px; fill: rgb(99, 110, 250); fill-opacity: 1; stroke: rgb(229, 236, 246); stroke-opacity: 1;\"/></g><g class=\"point\"><path d=\"M94.5,315V66.87H130.5V315Z\" style=\"vector-effect: non-scaling-stroke; opacity: 1; stroke-width: 0.5px; fill: rgb(99, 110, 250); fill-opacity: 1; stroke: rgb(229, 236, 246); stroke-opacity: 1;\"/></g><g class=\"point\"><path d=\"M139.5,315V70.62H175.5V315Z\" style=\"vector-effect: non-scaling-stroke; opacity: 1; stroke-width: 0.5px; fill: rgb(99, 110, 250); fill-opacity: 1; stroke: rgb(229, 236, 246); stroke-opacity: 1;\"/></g><g class=\"point\"><path d=\"M184.5,315V71.65H220.5V315Z\" style=\"vector-effect: non-scaling-stroke; opacity: 1; stroke-width: 0.5px; fill: rgb(99, 110, 250); fill-opacity: 1; stroke: rgb(229, 236, 246); stroke-opacity: 1;\"/></g><g class=\"point\"><path d=\"M229.5,315V82.55H265.5V315Z\" style=\"vector-effect: non-scaling-stroke; opacity: 1; stroke-width: 0.5px; fill: rgb(99, 110, 250); fill-opacity: 1; stroke: rgb(229, 236, 246); stroke-opacity: 1;\"/></g><g class=\"point\"><path d=\"M274.5,315V88.69H310.5V315Z\" style=\"vector-effect: non-scaling-stroke; opacity: 1; stroke-width: 0.5px; fill: rgb(99, 110, 250); fill-opacity: 1; stroke: rgb(229, 236, 246); stroke-opacity: 1;\"/></g><g class=\"point\"><path d=\"M319.5,315V95.16H355.5V315Z\" style=\"vector-effect: non-scaling-stroke; opacity: 1; stroke-width: 0.5px; fill: rgb(99, 110, 250); fill-opacity: 1; stroke: rgb(229, 236, 246); stroke-opacity: 1;\"/></g><g class=\"point\"><path d=\"M364.5,315V110.5H400.5V315Z\" style=\"vector-effect: non-scaling-stroke; opacity: 1; stroke-width: 0.5px; fill: rgb(99, 110, 250); fill-opacity: 1; stroke: rgb(229, 236, 246); stroke-opacity: 1;\"/></g><g class=\"point\"><path d=\"M409.5,315V158.56H445.5V315Z\" style=\"vector-effect: non-scaling-stroke; opacity: 1; stroke-width: 0.5px; fill: rgb(99, 110, 250); fill-opacity: 1; stroke: rgb(229, 236, 246); stroke-opacity: 1;\"/></g><g class=\"point\"><path d=\"M454.5,315V196.05H490.5V315Z\" style=\"vector-effect: non-scaling-stroke; opacity: 1; stroke-width: 0.5px; fill: rgb(99, 110, 250); fill-opacity: 1; stroke: rgb(229, 236, 246); stroke-opacity: 1;\"/></g><g class=\"point\"><path d=\"M499.5,315V196.39H535.5V315Z\" style=\"vector-effect: non-scaling-stroke; opacity: 1; stroke-width: 0.5px; fill: rgb(99, 110, 250); fill-opacity: 1; stroke: rgb(229, 236, 246); stroke-opacity: 1;\"/></g></g></g></g></g><g class=\"overplot\"/><path class=\"xlines-above crisp\" d=\"M0,0\" style=\"fill: none;\"/><path class=\"ylines-above crisp\" d=\"M0,0\" style=\"fill: none;\"/><g class=\"overlines-above\"/><g class=\"xaxislayer-above\"><g class=\"xtick\"><text text-anchor=\"start\" x=\"0\" y=\"428\" transform=\"translate(102.5,0) rotate(30,0,422)\" style=\"font-family: 'Open Sans', verdana, arial, sans-serif; font-size: 12px; fill: rgb(42, 63, 95); fill-opacity: 1; white-space: pre; opacity: 1;\">June</text></g><g class=\"xtick\"><text text-anchor=\"start\" x=\"0\" y=\"428\" transform=\"translate(147.5,0) rotate(30,0,422)\" style=\"font-family: 'Open Sans', verdana, arial, sans-serif; font-size: 12px; fill: rgb(42, 63, 95); fill-opacity: 1; white-space: pre; opacity: 1;\">August</text></g><g class=\"xtick\"><text text-anchor=\"start\" x=\"0\" y=\"428\" transform=\"translate(192.5,0) rotate(30,0,422)\" style=\"font-family: 'Open Sans', verdana, arial, sans-serif; font-size: 12px; fill: rgb(42, 63, 95); fill-opacity: 1; white-space: pre; opacity: 1;\">September</text></g><g class=\"xtick\"><text text-anchor=\"start\" x=\"0\" y=\"428\" transform=\"translate(237.5,0) rotate(30,0,422)\" style=\"font-family: 'Open Sans', verdana, arial, sans-serif; font-size: 12px; fill: rgb(42, 63, 95); fill-opacity: 1; white-space: pre; opacity: 1;\">May</text></g><g class=\"xtick\"><text text-anchor=\"start\" x=\"0\" y=\"428\" transform=\"translate(282.5,0) rotate(30,0,422)\" style=\"font-family: 'Open Sans', verdana, arial, sans-serif; font-size: 12px; fill: rgb(42, 63, 95); fill-opacity: 1; white-space: pre; opacity: 1;\">December</text></g><g class=\"xtick\"><text text-anchor=\"start\" x=\"0\" y=\"428\" transform=\"translate(327.5,0) rotate(30,0,422)\" style=\"font-family: 'Open Sans', verdana, arial, sans-serif; font-size: 12px; fill: rgb(42, 63, 95); fill-opacity: 1; white-space: pre; opacity: 1;\">January</text></g><g class=\"xtick\"><text text-anchor=\"start\" x=\"0\" y=\"428\" transform=\"translate(372.5,0) rotate(30,0,422)\" style=\"font-family: 'Open Sans', verdana, arial, sans-serif; font-size: 12px; fill: rgb(42, 63, 95); fill-opacity: 1; white-space: pre; opacity: 1;\">July</text></g><g class=\"xtick\"><text text-anchor=\"start\" x=\"0\" y=\"428\" transform=\"translate(417.5,0) rotate(30,0,422)\" style=\"font-family: 'Open Sans', verdana, arial, sans-serif; font-size: 12px; fill: rgb(42, 63, 95); fill-opacity: 1; white-space: pre; opacity: 1;\">November</text></g><g class=\"xtick\"><text text-anchor=\"start\" x=\"0\" y=\"428\" transform=\"translate(462.5,0) rotate(30,0,422)\" style=\"font-family: 'Open Sans', verdana, arial, sans-serif; font-size: 12px; fill: rgb(42, 63, 95); fill-opacity: 1; white-space: pre; opacity: 1;\">October</text></g><g class=\"xtick\"><text text-anchor=\"start\" x=\"0\" y=\"428\" transform=\"translate(507.5,0) rotate(30,0,422)\" style=\"font-family: 'Open Sans', verdana, arial, sans-serif; font-size: 12px; fill: rgb(42, 63, 95); fill-opacity: 1; white-space: pre; opacity: 1;\">April</text></g><g class=\"xtick\"><text text-anchor=\"start\" x=\"0\" y=\"428\" transform=\"translate(552.5,0) rotate(30,0,422)\" style=\"font-family: 'Open Sans', verdana, arial, sans-serif; font-size: 12px; fill: rgb(42, 63, 95); fill-opacity: 1; white-space: pre; opacity: 1;\">February</text></g><g class=\"xtick\"><text text-anchor=\"start\" x=\"0\" y=\"428\" transform=\"translate(597.5,0) rotate(30,0,422)\" style=\"font-family: 'Open Sans', verdana, arial, sans-serif; font-size: 12px; fill: rgb(42, 63, 95); fill-opacity: 1; white-space: pre; opacity: 1;\">March</text></g></g><g class=\"yaxislayer-above\"><g class=\"ytick\"><text text-anchor=\"end\" x=\"79\" y=\"4.199999999999999\" transform=\"translate(0,415)\" style=\"font-family: 'Open Sans', verdana, arial, sans-serif; font-size: 12px; fill: rgb(42, 63, 95); fill-opacity: 1; white-space: pre; opacity: 1;\">0</text></g><g class=\"ytick\"><text text-anchor=\"end\" x=\"79\" y=\"4.199999999999999\" style=\"font-family: 'Open Sans', verdana, arial, sans-serif; font-size: 12px; fill: rgb(42, 63, 95); fill-opacity: 1; white-space: pre; opacity: 1;\" transform=\"translate(0,346.83000000000004)\">200</text></g><g class=\"ytick\"><text text-anchor=\"end\" x=\"79\" y=\"4.199999999999999\" style=\"font-family: 'Open Sans', verdana, arial, sans-serif; font-size: 12px; fill: rgb(42, 63, 95); fill-opacity: 1; white-space: pre; opacity: 1;\" transform=\"translate(0,278.66999999999996)\">400</text></g><g class=\"ytick\"><text text-anchor=\"end\" x=\"79\" y=\"4.199999999999999\" style=\"font-family: 'Open Sans', verdana, arial, sans-serif; font-size: 12px; fill: rgb(42, 63, 95); fill-opacity: 1; white-space: pre; opacity: 1;\" transform=\"translate(0,210.5)\">600</text></g><g class=\"ytick\"><text text-anchor=\"end\" x=\"79\" y=\"4.199999999999999\" style=\"font-family: 'Open Sans', verdana, arial, sans-serif; font-size: 12px; fill: rgb(42, 63, 95); fill-opacity: 1; white-space: pre; opacity: 1;\" transform=\"translate(0,142.32999999999998)\">800</text></g></g><g class=\"overaxes-above\"/></g></g><g class=\"polarlayer\"/><g class=\"smithlayer\"/><g class=\"ternarylayer\"/><g class=\"geolayer\"/><g class=\"funnelarealayer\"/><g class=\"pielayer\"/><g class=\"iciclelayer\"/><g class=\"treemaplayer\"/><g class=\"sunburstlayer\"/><g class=\"glimages\"/><defs id=\"topdefs-751cbc\"><g class=\"clips\"/></defs><g class=\"layer-above\"><g class=\"imagelayer\"/><g class=\"shapelayer\"/></g><g class=\"infolayer\"><g class=\"g-gtitle\"><text class=\"gtitle\" x=\"35\" y=\"50\" text-anchor=\"start\" dy=\"0em\" style=\"font-family: 'Open Sans', verdana, arial, sans-serif; font-size: 17px; fill: rgb(42, 63, 95); opacity: 1; font-weight: normal; white-space: pre;\">Messages Per Month</text></g><g class=\"g-xtitle\"><text class=\"xtitle\" x=\"350\" y=\"488.1017578125\" text-anchor=\"middle\" style=\"font-family: 'Open Sans', verdana, arial, sans-serif; font-size: 14px; fill: rgb(42, 63, 95); opacity: 1; font-weight: normal; white-space: pre;\">Month</text></g><g class=\"g-ytitle\"><text class=\"ytitle\" transform=\"rotate(-90,31.309375000000003,257.5)\" x=\"31.309375000000003\" y=\"257.5\" text-anchor=\"middle\" style=\"font-family: 'Open Sans', verdana, arial, sans-serif; font-size: 14px; fill: rgb(42, 63, 95); opacity: 1; font-weight: normal; white-space: pre;\">Message</text></g></g></svg>"
     },
     "metadata": {},
     "output_type": "display_data"
    }
   ],
   "source": [
    "df_month = df.groupby('Month').agg({'Message':'count'}).sort_values(by='Message',ascending=False).reset_index()\n",
    "fig = px.bar(df_month, x='Month', y='Message', title='Messages Per Month')\n",
    "fig.show(\"svg\")"
   ]
  },
  {
   "cell_type": "code",
   "execution_count": 63,
   "id": "c4461c6f",
   "metadata": {},
   "outputs": [
    {
     "data": {
      "text/html": [
       "<div>\n",
       "<style scoped>\n",
       "    .dataframe tbody tr th:only-of-type {\n",
       "        vertical-align: middle;\n",
       "    }\n",
       "\n",
       "    .dataframe tbody tr th {\n",
       "        vertical-align: top;\n",
       "    }\n",
       "\n",
       "    .dataframe thead th {\n",
       "        text-align: right;\n",
       "    }\n",
       "</style>\n",
       "<table border=\"1\" class=\"dataframe\">\n",
       "  <thead>\n",
       "    <tr style=\"text-align: right;\">\n",
       "      <th></th>\n",
       "      <th>Message</th>\n",
       "    </tr>\n",
       "    <tr>\n",
       "      <th>Hour</th>\n",
       "      <th></th>\n",
       "    </tr>\n",
       "  </thead>\n",
       "  <tbody>\n",
       "    <tr>\n",
       "      <th>22</th>\n",
       "      <td>791</td>\n",
       "    </tr>\n",
       "    <tr>\n",
       "      <th>00</th>\n",
       "      <td>704</td>\n",
       "    </tr>\n",
       "    <tr>\n",
       "      <th>23</th>\n",
       "      <td>702</td>\n",
       "    </tr>\n",
       "    <tr>\n",
       "      <th>15</th>\n",
       "      <td>530</td>\n",
       "    </tr>\n",
       "    <tr>\n",
       "      <th>20</th>\n",
       "      <td>514</td>\n",
       "    </tr>\n",
       "    <tr>\n",
       "      <th>16</th>\n",
       "      <td>477</td>\n",
       "    </tr>\n",
       "    <tr>\n",
       "      <th>19</th>\n",
       "      <td>459</td>\n",
       "    </tr>\n",
       "    <tr>\n",
       "      <th>18</th>\n",
       "      <td>452</td>\n",
       "    </tr>\n",
       "    <tr>\n",
       "      <th>17</th>\n",
       "      <td>451</td>\n",
       "    </tr>\n",
       "    <tr>\n",
       "      <th>01</th>\n",
       "      <td>441</td>\n",
       "    </tr>\n",
       "  </tbody>\n",
       "</table>\n",
       "</div>"
      ],
      "text/plain": [
       "      Message\n",
       "Hour         \n",
       "22        791\n",
       "00        704\n",
       "23        702\n",
       "15        530\n",
       "20        514\n",
       "16        477\n",
       "19        459\n",
       "18        452\n",
       "17        451\n",
       "01        441"
      ]
     },
     "execution_count": 63,
     "metadata": {},
     "output_type": "execute_result"
    }
   ],
   "source": [
    "df.groupby('Hour').agg({'Message':'count'}).sort_values(by='Message',ascending=False)[:10]"
   ]
  },
  {
   "cell_type": "code",
   "execution_count": 73,
   "id": "7b0d96ca",
   "metadata": {},
   "outputs": [
    {
     "data": {
      "image/svg+xml": "<svg class=\"main-svg\" xmlns=\"http://www.w3.org/2000/svg\" xmlns:xlink=\"http://www.w3.org/1999/xlink\" width=\"700\" height=\"500\" style=\"\" viewBox=\"0 0 700 500\"><rect x=\"0\" y=\"0\" width=\"700\" height=\"500\" style=\"fill: rgb(255, 255, 255); fill-opacity: 1;\"/><defs id=\"defs-159248\"><g class=\"clips\"><clipPath id=\"clip159248xyplot\" class=\"plotclip\"><rect width=\"540\" height=\"320\"/></clipPath><clipPath class=\"axesclip\" id=\"clip159248x\"><rect x=\"80\" y=\"0\" width=\"540\" height=\"500\"/></clipPath><clipPath class=\"axesclip\" id=\"clip159248y\"><rect x=\"0\" y=\"100\" width=\"700\" height=\"320\"/></clipPath><clipPath class=\"axesclip\" id=\"clip159248xy\"><rect x=\"80\" y=\"100\" width=\"540\" height=\"320\"/></clipPath></g><g class=\"gradients\"/><g class=\"patterns\"/></defs><g class=\"bglayer\"><rect class=\"bg\" x=\"80\" y=\"100\" width=\"540\" height=\"320\" style=\"fill: rgb(229, 236, 246); fill-opacity: 1; stroke-width: 0;\"/></g><g class=\"layer-below\"><g class=\"imagelayer\"/><g class=\"shapelayer\"/></g><g class=\"cartesianlayer\"><g class=\"subplot xy\"><g class=\"layer-subplot\"><g class=\"shapelayer\"/><g class=\"imagelayer\"/></g><g class=\"gridlayer\"><g class=\"x\"/><g class=\"y\"><path class=\"ygrid crisp\" transform=\"translate(0,381.57)\" d=\"M80,0h540\" style=\"stroke: rgb(255, 255, 255); stroke-opacity: 1; stroke-width: 1px;\"/><path class=\"ygrid crisp\" transform=\"translate(0,343.14)\" d=\"M80,0h540\" style=\"stroke: rgb(255, 255, 255); stroke-opacity: 1; stroke-width: 1px;\"/><path class=\"ygrid crisp\" transform=\"translate(0,304.7)\" d=\"M80,0h540\" style=\"stroke: rgb(255, 255, 255); stroke-opacity: 1; stroke-width: 1px;\"/><path class=\"ygrid crisp\" transform=\"translate(0,266.27)\" d=\"M80,0h540\" style=\"stroke: rgb(255, 255, 255); stroke-opacity: 1; stroke-width: 1px;\"/><path class=\"ygrid crisp\" transform=\"translate(0,227.84)\" d=\"M80,0h540\" style=\"stroke: rgb(255, 255, 255); stroke-opacity: 1; stroke-width: 1px;\"/><path class=\"ygrid crisp\" transform=\"translate(0,189.41)\" d=\"M80,0h540\" style=\"stroke: rgb(255, 255, 255); stroke-opacity: 1; stroke-width: 1px;\"/><path class=\"ygrid crisp\" transform=\"translate(0,150.97)\" d=\"M80,0h540\" style=\"stroke: rgb(255, 255, 255); stroke-opacity: 1; stroke-width: 1px;\"/><path class=\"ygrid crisp\" transform=\"translate(0,112.53999999999999)\" d=\"M80,0h540\" style=\"stroke: rgb(255, 255, 255); stroke-opacity: 1; stroke-width: 1px;\"/></g></g><g class=\"zerolinelayer\"><path class=\"yzl zl crisp\" transform=\"translate(0,420)\" d=\"M80,0h540\" style=\"stroke: rgb(255, 255, 255); stroke-opacity: 1; stroke-width: 2px;\"/></g><path class=\"xlines-below\"/><path class=\"ylines-below\"/><g class=\"overlines-below\"/><g class=\"xaxislayer-below\"/><g class=\"yaxislayer-below\"/><g class=\"overaxes-below\"/><g class=\"plot\" transform=\"translate(80,100)\" clip-path=\"url(#clip159248xyplot)\"><g class=\"barlayer mlayer\"><g class=\"trace bars\" style=\"opacity: 1;\"><g class=\"points\"><g class=\"point\"><path d=\"M5.4,320V16H48.6V320Z\" style=\"vector-effect: non-scaling-stroke; opacity: 1; stroke-width: 0.5px; fill: rgb(99, 110, 250); fill-opacity: 1; stroke: rgb(229, 236, 246); stroke-opacity: 1;\"/></g><g class=\"point\"><path d=\"M59.4,320V49.44H102.6V320Z\" style=\"vector-effect: non-scaling-stroke; opacity: 1; stroke-width: 0.5px; fill: rgb(99, 110, 250); fill-opacity: 1; stroke: rgb(229, 236, 246); stroke-opacity: 1;\"/></g><g class=\"point\"><path d=\"M113.4,320V50.2H156.6V320Z\" style=\"vector-effect: non-scaling-stroke; opacity: 1; stroke-width: 0.5px; fill: rgb(99, 110, 250); fill-opacity: 1; stroke: rgb(229, 236, 246); stroke-opacity: 1;\"/></g><g class=\"point\"><path d=\"M167.4,320V116.31H210.6V320Z\" style=\"vector-effect: non-scaling-stroke; opacity: 1; stroke-width: 0.5px; fill: rgb(99, 110, 250); fill-opacity: 1; stroke: rgb(229, 236, 246); stroke-opacity: 1;\"/></g><g class=\"point\"><path d=\"M221.4,320V122.46H264.6V320Z\" style=\"vector-effect: non-scaling-stroke; opacity: 1; stroke-width: 0.5px; fill: rgb(99, 110, 250); fill-opacity: 1; stroke: rgb(229, 236, 246); stroke-opacity: 1;\"/></g><g class=\"point\"><path d=\"M275.4,320V136.68H318.6V320Z\" style=\"vector-effect: non-scaling-stroke; opacity: 1; stroke-width: 0.5px; fill: rgb(99, 110, 250); fill-opacity: 1; stroke: rgb(229, 236, 246); stroke-opacity: 1;\"/></g><g class=\"point\"><path d=\"M329.4,320V143.6H372.6V320Z\" style=\"vector-effect: non-scaling-stroke; opacity: 1; stroke-width: 0.5px; fill: rgb(99, 110, 250); fill-opacity: 1; stroke: rgb(229, 236, 246); stroke-opacity: 1;\"/></g><g class=\"point\"><path d=\"M383.4,320V146.29H426.6V320Z\" style=\"vector-effect: non-scaling-stroke; opacity: 1; stroke-width: 0.5px; fill: rgb(99, 110, 250); fill-opacity: 1; stroke: rgb(229, 236, 246); stroke-opacity: 1;\"/></g><g class=\"point\"><path d=\"M437.4,320V146.67H480.6V320Z\" style=\"vector-effect: non-scaling-stroke; opacity: 1; stroke-width: 0.5px; fill: rgb(99, 110, 250); fill-opacity: 1; stroke: rgb(229, 236, 246); stroke-opacity: 1;\"/></g><g class=\"point\"><path d=\"M491.4,320V150.51H534.6V320Z\" style=\"vector-effect: non-scaling-stroke; opacity: 1; stroke-width: 0.5px; fill: rgb(99, 110, 250); fill-opacity: 1; stroke: rgb(229, 236, 246); stroke-opacity: 1;\"/></g></g></g></g></g><g class=\"overplot\"/><path class=\"xlines-above crisp\" d=\"M0,0\" style=\"fill: none;\"/><path class=\"ylines-above crisp\" d=\"M0,0\" style=\"fill: none;\"/><g class=\"overlines-above\"/><g class=\"xaxislayer-above\"><g class=\"xtick\"><text text-anchor=\"middle\" x=\"0\" y=\"433\" transform=\"translate(107,0)\" style=\"font-family: 'Open Sans', verdana, arial, sans-serif; font-size: 12px; fill: rgb(42, 63, 95); fill-opacity: 1; white-space: pre; opacity: 1;\">22</text></g><g class=\"xtick\"><text text-anchor=\"middle\" x=\"0\" y=\"433\" transform=\"translate(161,0)\" style=\"font-family: 'Open Sans', verdana, arial, sans-serif; font-size: 12px; fill: rgb(42, 63, 95); fill-opacity: 1; white-space: pre; opacity: 1;\">00</text></g><g class=\"xtick\"><text text-anchor=\"middle\" x=\"0\" y=\"433\" transform=\"translate(215,0)\" style=\"font-family: 'Open Sans', verdana, arial, sans-serif; font-size: 12px; fill: rgb(42, 63, 95); fill-opacity: 1; white-space: pre; opacity: 1;\">23</text></g><g class=\"xtick\"><text text-anchor=\"middle\" x=\"0\" y=\"433\" transform=\"translate(269,0)\" style=\"font-family: 'Open Sans', verdana, arial, sans-serif; font-size: 12px; fill: rgb(42, 63, 95); fill-opacity: 1; white-space: pre; opacity: 1;\">15</text></g><g class=\"xtick\"><text text-anchor=\"middle\" x=\"0\" y=\"433\" transform=\"translate(323,0)\" style=\"font-family: 'Open Sans', verdana, arial, sans-serif; font-size: 12px; fill: rgb(42, 63, 95); fill-opacity: 1; white-space: pre; opacity: 1;\">20</text></g><g class=\"xtick\"><text text-anchor=\"middle\" x=\"0\" y=\"433\" transform=\"translate(377,0)\" style=\"font-family: 'Open Sans', verdana, arial, sans-serif; font-size: 12px; fill: rgb(42, 63, 95); fill-opacity: 1; white-space: pre; opacity: 1;\">16</text></g><g class=\"xtick\"><text text-anchor=\"middle\" x=\"0\" y=\"433\" transform=\"translate(431,0)\" style=\"font-family: 'Open Sans', verdana, arial, sans-serif; font-size: 12px; fill: rgb(42, 63, 95); fill-opacity: 1; white-space: pre; opacity: 1;\">19</text></g><g class=\"xtick\"><text text-anchor=\"middle\" x=\"0\" y=\"433\" transform=\"translate(485,0)\" style=\"font-family: 'Open Sans', verdana, arial, sans-serif; font-size: 12px; fill: rgb(42, 63, 95); fill-opacity: 1; white-space: pre; opacity: 1;\">18</text></g><g class=\"xtick\"><text text-anchor=\"middle\" x=\"0\" y=\"433\" transform=\"translate(539,0)\" style=\"font-family: 'Open Sans', verdana, arial, sans-serif; font-size: 12px; fill: rgb(42, 63, 95); fill-opacity: 1; white-space: pre; opacity: 1;\">17</text></g><g class=\"xtick\"><text text-anchor=\"middle\" x=\"0\" y=\"433\" transform=\"translate(593,0)\" style=\"font-family: 'Open Sans', verdana, arial, sans-serif; font-size: 12px; fill: rgb(42, 63, 95); fill-opacity: 1; white-space: pre; opacity: 1;\">01</text></g></g><g class=\"yaxislayer-above\"><g class=\"ytick\"><text text-anchor=\"end\" x=\"79\" y=\"4.199999999999999\" transform=\"translate(0,420)\" style=\"font-family: 'Open Sans', verdana, arial, sans-serif; font-size: 12px; fill: rgb(42, 63, 95); fill-opacity: 1; white-space: pre; opacity: 1;\">0</text></g><g class=\"ytick\"><text text-anchor=\"end\" x=\"79\" y=\"4.199999999999999\" style=\"font-family: 'Open Sans', verdana, arial, sans-serif; font-size: 12px; fill: rgb(42, 63, 95); fill-opacity: 1; white-space: pre; opacity: 1;\" transform=\"translate(0,381.57)\">100</text></g><g class=\"ytick\"><text text-anchor=\"end\" x=\"79\" y=\"4.199999999999999\" style=\"font-family: 'Open Sans', verdana, arial, sans-serif; font-size: 12px; fill: rgb(42, 63, 95); fill-opacity: 1; white-space: pre; opacity: 1;\" transform=\"translate(0,343.14)\">200</text></g><g class=\"ytick\"><text text-anchor=\"end\" x=\"79\" y=\"4.199999999999999\" style=\"font-family: 'Open Sans', verdana, arial, sans-serif; font-size: 12px; fill: rgb(42, 63, 95); fill-opacity: 1; white-space: pre; opacity: 1;\" transform=\"translate(0,304.7)\">300</text></g><g class=\"ytick\"><text text-anchor=\"end\" x=\"79\" y=\"4.199999999999999\" style=\"font-family: 'Open Sans', verdana, arial, sans-serif; font-size: 12px; fill: rgb(42, 63, 95); fill-opacity: 1; white-space: pre; opacity: 1;\" transform=\"translate(0,266.27)\">400</text></g><g class=\"ytick\"><text text-anchor=\"end\" x=\"79\" y=\"4.199999999999999\" style=\"font-family: 'Open Sans', verdana, arial, sans-serif; font-size: 12px; fill: rgb(42, 63, 95); fill-opacity: 1; white-space: pre; opacity: 1;\" transform=\"translate(0,227.84)\">500</text></g><g class=\"ytick\"><text text-anchor=\"end\" x=\"79\" y=\"4.199999999999999\" style=\"font-family: 'Open Sans', verdana, arial, sans-serif; font-size: 12px; fill: rgb(42, 63, 95); fill-opacity: 1; white-space: pre; opacity: 1;\" transform=\"translate(0,189.41)\">600</text></g><g class=\"ytick\"><text text-anchor=\"end\" x=\"79\" y=\"4.199999999999999\" style=\"font-family: 'Open Sans', verdana, arial, sans-serif; font-size: 12px; fill: rgb(42, 63, 95); fill-opacity: 1; white-space: pre; opacity: 1;\" transform=\"translate(0,150.97)\">700</text></g><g class=\"ytick\"><text text-anchor=\"end\" x=\"79\" y=\"4.199999999999999\" style=\"font-family: 'Open Sans', verdana, arial, sans-serif; font-size: 12px; fill: rgb(42, 63, 95); fill-opacity: 1; white-space: pre; opacity: 1;\" transform=\"translate(0,112.53999999999999)\">800</text></g></g><g class=\"overaxes-above\"/></g></g><g class=\"polarlayer\"/><g class=\"smithlayer\"/><g class=\"ternarylayer\"/><g class=\"geolayer\"/><g class=\"funnelarealayer\"/><g class=\"pielayer\"/><g class=\"iciclelayer\"/><g class=\"treemaplayer\"/><g class=\"sunburstlayer\"/><g class=\"glimages\"/><defs id=\"topdefs-159248\"><g class=\"clips\"/></defs><g class=\"layer-above\"><g class=\"imagelayer\"/><g class=\"shapelayer\"/></g><g class=\"infolayer\"><g class=\"g-gtitle\"><text class=\"gtitle\" x=\"35\" y=\"50\" text-anchor=\"start\" dy=\"0em\" style=\"font-family: 'Open Sans', verdana, arial, sans-serif; font-size: 17px; fill: rgb(42, 63, 95); opacity: 1; font-weight: normal; white-space: pre;\">Messages Per Hour</text></g><g class=\"g-xtitle\"><text class=\"xtitle\" x=\"350\" y=\"460.8\" text-anchor=\"middle\" style=\"font-family: 'Open Sans', verdana, arial, sans-serif; font-size: 14px; fill: rgb(42, 63, 95); opacity: 1; font-weight: normal; white-space: pre;\">Hour</text></g><g class=\"g-ytitle\"><text class=\"ytitle\" transform=\"rotate(-90,31.309375000000003,260)\" x=\"31.309375000000003\" y=\"260\" text-anchor=\"middle\" style=\"font-family: 'Open Sans', verdana, arial, sans-serif; font-size: 14px; fill: rgb(42, 63, 95); opacity: 1; font-weight: normal; white-space: pre;\">Message</text></g></g></svg>"
     },
     "metadata": {},
     "output_type": "display_data"
    }
   ],
   "source": [
    "df_hour = df.groupby('Hour').agg({'Message':'count'}).sort_values(by='Message',ascending=False)[:10].reset_index()\n",
    "fig = px.bar(df_hour, x='Hour', y='Message', title='Messages Per Hour')\n",
    "fig.show(\"svg\")"
   ]
  },
  {
   "cell_type": "code",
   "execution_count": 65,
   "id": "f034e378",
   "metadata": {},
   "outputs": [
    {
     "data": {
      "text/plain": [
       "count               7569\n",
       "unique              4448\n",
       "top       Image or Video\n",
       "freq                2536\n",
       "Name: Message, dtype: object"
      ]
     },
     "execution_count": 65,
     "metadata": {},
     "output_type": "execute_result"
    }
   ],
   "source": [
    "df['Message'].describe()"
   ]
  },
  {
   "cell_type": "code",
   "execution_count": 66,
   "id": "e84d1773",
   "metadata": {},
   "outputs": [],
   "source": [
    "#Getting arabic stop words to remove them from the messages\n",
    "with open('arabicstopwords.txt', \"r+\",encoding=\"utf-8\") as s:\n",
    "    stopwords = s.read().splitlines() "
   ]
  },
  {
   "cell_type": "code",
   "execution_count": 67,
   "id": "2379a4e2",
   "metadata": {},
   "outputs": [
    {
     "data": {
      "text/plain": [
       "['،', 'ء', 'ءَ', 'آ', 'آب']"
      ]
     },
     "execution_count": 67,
     "metadata": {},
     "output_type": "execute_result"
    }
   ],
   "source": [
    "stopwords[:5]"
   ]
  },
  {
   "cell_type": "code",
   "execution_count": 68,
   "id": "6bac786b",
   "metadata": {},
   "outputs": [],
   "source": [
    "user1 = df['User'].value_counts().index[0]"
   ]
  },
  {
   "cell_type": "code",
   "execution_count": 69,
   "id": "bb70abb4",
   "metadata": {},
   "outputs": [],
   "source": [
    "user2 = df['User'].value_counts().index[1]"
   ]
  },
  {
   "cell_type": "code",
   "execution_count": 70,
   "id": "d3d26765",
   "metadata": {},
   "outputs": [],
   "source": [
    "def most_freq_words(user):\n",
    "    #Get messages from one user\n",
    "    messages = (\" \".join(df[(df['Message']!='Image or Video')&(df['User']==user)]['Message']).split())\n",
    "    #remove stop words\n",
    "    for x in messages:\n",
    "       if x in stopwords: \n",
    "           messages.remove(x)\n",
    "\n",
    "    return Counter(messages).most_common(7)"
   ]
  },
  {
   "cell_type": "code",
   "execution_count": 71,
   "id": "aab154cc",
   "metadata": {},
   "outputs": [
    {
     "name": "stdout",
     "output_type": "stream",
     "text": [
      "Most Frequent Words by Sara\n"
     ]
    },
    {
     "data": {
      "text/plain": [
       "[('عشان', 114),\n",
       " ('هشام', 80),\n",
       " ('دي', 66),\n",
       " ('بقي', 61),\n",
       " ('انا', 56),\n",
       " ('يعني', 45),\n",
       " ('مش', 45)]"
      ]
     },
     "execution_count": 71,
     "metadata": {},
     "output_type": "execute_result"
    }
   ],
   "source": [
    "print('Most Frequent Words by',user1)\n",
    "most_freq_words(user1)"
   ]
  },
  {
   "cell_type": "code",
   "execution_count": 72,
   "id": "db4998de",
   "metadata": {},
   "outputs": [
    {
     "name": "stdout",
     "output_type": "stream",
     "text": [
      "Most Frequent Words by Hisham\n"
     ]
    },
    {
     "data": {
      "text/plain": [
       "[('دي', 46),\n",
       " ('علشان', 36),\n",
       " ('هى', 30),\n",
       " ('ليه', 29),\n",
       " ('يعني', 28),\n",
       " ('انتِ', 27),\n",
       " ('ايه', 26)]"
      ]
     },
     "execution_count": 72,
     "metadata": {},
     "output_type": "execute_result"
    }
   ],
   "source": [
    "print('Most Frequent Words by',user2)\n",
    "most_freq_words(user2)"
   ]
  }
 ],
 "metadata": {
  "kernelspec": {
   "display_name": "Python 3.8.8 ('base')",
   "language": "python",
   "name": "python3"
  },
  "language_info": {
   "codemirror_mode": {
    "name": "ipython",
    "version": 3
   },
   "file_extension": ".py",
   "mimetype": "text/x-python",
   "name": "python",
   "nbconvert_exporter": "python",
   "pygments_lexer": "ipython3",
   "version": "3.8.8"
  },
  "vscode": {
   "interpreter": {
    "hash": "49cb93f377a7abe7414b7b0f21fb3017538004a126cf690fb524202736b7fb92"
   }
  }
 },
 "nbformat": 4,
 "nbformat_minor": 5
}
