{
 "cells": [
  {
   "cell_type": "code",
   "execution_count": 37,
   "id": "2ce3d67d",
   "metadata": {},
   "outputs": [],
   "source": [
    "#Importing libraries\n",
    "import pandas as pd\n",
    "import plotly.express as px\n",
    "import plotly.graph_objects as go\n",
    "import re\n",
    "from collections import Counter\n",
    "import warnings\n",
    "warnings.filterwarnings('ignore')"
   ]
  },
  {
   "cell_type": "code",
   "execution_count": 38,
   "id": "bd03540f",
   "metadata": {},
   "outputs": [],
   "source": [
    "#Chat path\n",
    "chat_txt = \"WhatsApp Chats/WhatsApp Chat with Sara.txt\""
   ]
  },
  {
   "cell_type": "code",
   "execution_count": 39,
   "id": "6f06f8d5",
   "metadata": {},
   "outputs": [],
   "source": [
    "#Getting the text file using open function and splitting every line in a list named content\n",
    "with open(chat_txt, \"r+\",encoding=\"utf-8\") as f:\n",
    "    content = f.read().splitlines()"
   ]
  },
  {
   "cell_type": "code",
   "execution_count": 40,
   "id": "fdba3a8b",
   "metadata": {},
   "outputs": [
    {
     "data": {
      "text/plain": [
       "['21/12/2016, 3:13 pm - Sara: <Media omitted>',\n",
       " '21/12/2016, 3:14 pm - Sara: <Media omitted>',\n",
       " '21/12/2016, 3:14 pm - Sara: <Media omitted>',\n",
       " '21/12/2016, 3:14 pm - Sara: <Media omitted>',\n",
       " '21/12/2016, 3:14 pm - Sara: <Media omitted>']"
      ]
     },
     "execution_count": 40,
     "metadata": {},
     "output_type": "execute_result"
    }
   ],
   "source": [
    "content[:5]"
   ]
  },
  {
   "cell_type": "code",
   "execution_count": 41,
   "id": "33e57a19",
   "metadata": {},
   "outputs": [
    {
     "data": {
      "text/plain": [
       "['21/12/2016', ' 3:13 pm', 'Hisham', '<Media omitted>']"
      ]
     },
     "execution_count": 41,
     "metadata": {},
     "output_type": "execute_result"
    }
   ],
   "source": [
    "y = '21/12/2016, 3:13 pm - Hisham: <Media omitted>'\n",
    "y1 = y.replace(' - ',',')\n",
    "y2 = y1.replace(': ',',')\n",
    "y3 = y2.split(',')\n",
    "y3"
   ]
  },
  {
   "cell_type": "code",
   "execution_count": 42,
   "id": "149b9ac3",
   "metadata": {},
   "outputs": [
    {
     "data": {
      "text/plain": [
       "4"
      ]
     },
     "execution_count": 42,
     "metadata": {},
     "output_type": "execute_result"
    }
   ],
   "source": [
    "len(y.replace(' - ',',').replace(': ',',').split(','))"
   ]
  },
  {
   "cell_type": "markdown",
   "id": "74764e9f",
   "metadata": {},
   "source": [
    "Every line contains 4 columns date, time, user, and the message so we have to check if every line contains those four columns, if not then its a multi line message."
   ]
  },
  {
   "cell_type": "code",
   "execution_count": 43,
   "id": "8e17beb6",
   "metadata": {},
   "outputs": [],
   "source": [
    "def check_length(x):\n",
    "    return len(x.replace(' - ',',').replace(': ',',').split(','))"
   ]
  },
  {
   "cell_type": "code",
   "execution_count": 44,
   "id": "65f186fd",
   "metadata": {},
   "outputs": [],
   "source": [
    "date = []\n",
    "time = []\n",
    "user = []\n",
    "message = []\n",
    "count = 1\n",
    "for x in range(len(content)):\n",
    "        #If the first message isn't right then maybe it's just a message from whatsapp like 'Messages and calls are end-to-end encrypted.'\n",
    "        # so we don't have to worry about it\n",
    "        if check_length(content[x]) != 4 and x==0:\n",
    "                continue\n",
    "\n",
    "        elif check_length(content[x]) != 4:\n",
    "                #If it's a multi line message we will add the message to the last element in message list until it gets all the lines\n",
    "                message[(len(message)-1)-count] = message[(len(message)-1)-count] + content[x]\n",
    "                count += 1\n",
    "                continue  \n",
    "        date.append(content[x][:content[x].index(',')])\n",
    "        time.append((content[x][content[x].index(',')+len(','):content[x].index('-')]).strip())\n",
    "        user.append((content[x][content[x].index('- ')+len('- '):content[x].index(': ')]).strip())\n",
    "        message.append(content[x][content[x].index(': ')+1:].strip())\n",
    "        count = 1"
   ]
  },
  {
   "cell_type": "code",
   "execution_count": 45,
   "id": "9525e4bf",
   "metadata": {},
   "outputs": [
    {
     "data": {
      "text/plain": [
       "(7569, 7569, 7569, 7569)"
      ]
     },
     "execution_count": 45,
     "metadata": {},
     "output_type": "execute_result"
    }
   ],
   "source": [
    "#All have the same length which a good thing\n",
    "len(message), len(date), len(user), len(time)"
   ]
  },
  {
   "cell_type": "code",
   "execution_count": 46,
   "id": "c528043a",
   "metadata": {},
   "outputs": [],
   "source": [
    "chat_dic = {'Date':date,\n",
    "            'Time':time,\n",
    "            'User':user,\n",
    "            'Message':message}"
   ]
  },
  {
   "cell_type": "code",
   "execution_count": 47,
   "id": "5eff8758",
   "metadata": {},
   "outputs": [],
   "source": [
    "#Converting the dictionary to a pandas dataframe\n",
    "df = pd.DataFrame(chat_dic)"
   ]
  },
  {
   "cell_type": "code",
   "execution_count": 48,
   "id": "fc903ed2",
   "metadata": {},
   "outputs": [
    {
     "data": {
      "text/html": [
       "<div>\n",
       "<style scoped>\n",
       "    .dataframe tbody tr th:only-of-type {\n",
       "        vertical-align: middle;\n",
       "    }\n",
       "\n",
       "    .dataframe tbody tr th {\n",
       "        vertical-align: top;\n",
       "    }\n",
       "\n",
       "    .dataframe thead th {\n",
       "        text-align: right;\n",
       "    }\n",
       "</style>\n",
       "<table border=\"1\" class=\"dataframe\">\n",
       "  <thead>\n",
       "    <tr style=\"text-align: right;\">\n",
       "      <th></th>\n",
       "      <th>Date</th>\n",
       "      <th>Time</th>\n",
       "      <th>User</th>\n",
       "      <th>Message</th>\n",
       "    </tr>\n",
       "  </thead>\n",
       "  <tbody>\n",
       "    <tr>\n",
       "      <th>0</th>\n",
       "      <td>21/12/2016</td>\n",
       "      <td>3:13 pm</td>\n",
       "      <td>Sara</td>\n",
       "      <td>&lt;Media omitted&gt;</td>\n",
       "    </tr>\n",
       "    <tr>\n",
       "      <th>1</th>\n",
       "      <td>21/12/2016</td>\n",
       "      <td>3:14 pm</td>\n",
       "      <td>Sara</td>\n",
       "      <td>&lt;Media omitted&gt;</td>\n",
       "    </tr>\n",
       "    <tr>\n",
       "      <th>2</th>\n",
       "      <td>21/12/2016</td>\n",
       "      <td>3:14 pm</td>\n",
       "      <td>Sara</td>\n",
       "      <td>&lt;Media omitted&gt;</td>\n",
       "    </tr>\n",
       "    <tr>\n",
       "      <th>3</th>\n",
       "      <td>21/12/2016</td>\n",
       "      <td>3:14 pm</td>\n",
       "      <td>Sara</td>\n",
       "      <td>&lt;Media omitted&gt;</td>\n",
       "    </tr>\n",
       "    <tr>\n",
       "      <th>4</th>\n",
       "      <td>21/12/2016</td>\n",
       "      <td>3:14 pm</td>\n",
       "      <td>Sara</td>\n",
       "      <td>&lt;Media omitted&gt;</td>\n",
       "    </tr>\n",
       "    <tr>\n",
       "      <th>5</th>\n",
       "      <td>21/12/2016</td>\n",
       "      <td>3:14 pm</td>\n",
       "      <td>Sara</td>\n",
       "      <td>&lt;Media omitted&gt;</td>\n",
       "    </tr>\n",
       "    <tr>\n",
       "      <th>6</th>\n",
       "      <td>21/12/2016</td>\n",
       "      <td>3:56 pm</td>\n",
       "      <td>Sara</td>\n",
       "      <td>&lt;Media omitted&gt;</td>\n",
       "    </tr>\n",
       "    <tr>\n",
       "      <th>7</th>\n",
       "      <td>21/12/2016</td>\n",
       "      <td>8:42 pm</td>\n",
       "      <td>Sara</td>\n",
       "      <td>اطلع من حمام ي حيوان</td>\n",
       "    </tr>\n",
       "  </tbody>\n",
       "</table>\n",
       "</div>"
      ],
      "text/plain": [
       "         Date     Time  User               Message\n",
       "0  21/12/2016  3:13 pm  Sara       <Media omitted>\n",
       "1  21/12/2016  3:14 pm  Sara       <Media omitted>\n",
       "2  21/12/2016  3:14 pm  Sara       <Media omitted>\n",
       "3  21/12/2016  3:14 pm  Sara       <Media omitted>\n",
       "4  21/12/2016  3:14 pm  Sara       <Media omitted>\n",
       "5  21/12/2016  3:14 pm  Sara       <Media omitted>\n",
       "6  21/12/2016  3:56 pm  Sara       <Media omitted>\n",
       "7  21/12/2016  8:42 pm  Sara  اطلع من حمام ي حيوان"
      ]
     },
     "execution_count": 48,
     "metadata": {},
     "output_type": "execute_result"
    }
   ],
   "source": [
    "#Viewing the first 8 rows\n",
    "df.head(8)"
   ]
  },
  {
   "cell_type": "code",
   "execution_count": 49,
   "id": "04d1e9d0",
   "metadata": {},
   "outputs": [
    {
     "name": "stdout",
     "output_type": "stream",
     "text": [
      "<class 'pandas.core.frame.DataFrame'>\n",
      "RangeIndex: 7569 entries, 0 to 7568\n",
      "Data columns (total 4 columns):\n",
      " #   Column   Non-Null Count  Dtype \n",
      "---  ------   --------------  ----- \n",
      " 0   Date     7569 non-null   object\n",
      " 1   Time     7569 non-null   object\n",
      " 2   User     7569 non-null   object\n",
      " 3   Message  7569 non-null   object\n",
      "dtypes: object(4)\n",
      "memory usage: 236.7+ KB\n"
     ]
    }
   ],
   "source": [
    "df.info()"
   ]
  },
  {
   "cell_type": "code",
   "execution_count": 50,
   "id": "d7aa4b3e",
   "metadata": {},
   "outputs": [],
   "source": [
    "#Converting columns to its correct type\n",
    "df['Date'] = pd.to_datetime(df['Date'])\n",
    "df['Time'] = df['Time'].apply(lambda x : pd.to_datetime(x).strftime('%H:%M'))\n",
    "#Replacing Media omitted value\n",
    "df['Message'] = df['Message'].replace('<Media omitted>','Image or Video')"
   ]
  },
  {
   "cell_type": "code",
   "execution_count": 51,
   "id": "89f8f42d",
   "metadata": {},
   "outputs": [],
   "source": [
    "#Adding date and time columns\n",
    "df['Day'] = df['Date'].apply(lambda x:x.day_name())\n",
    "df['Month'] = df['Date'].apply(lambda x:x.month_name())\n",
    "df['Year'] = df['Date'].apply(lambda x:x.year)\n",
    "df['Hour'] = df['Time'].apply(lambda x:x[:2])"
   ]
  },
  {
   "cell_type": "code",
   "execution_count": 52,
   "id": "233bcb98",
   "metadata": {},
   "outputs": [
    {
     "data": {
      "text/html": [
       "<div>\n",
       "<style scoped>\n",
       "    .dataframe tbody tr th:only-of-type {\n",
       "        vertical-align: middle;\n",
       "    }\n",
       "\n",
       "    .dataframe tbody tr th {\n",
       "        vertical-align: top;\n",
       "    }\n",
       "\n",
       "    .dataframe thead th {\n",
       "        text-align: right;\n",
       "    }\n",
       "</style>\n",
       "<table border=\"1\" class=\"dataframe\">\n",
       "  <thead>\n",
       "    <tr style=\"text-align: right;\">\n",
       "      <th></th>\n",
       "      <th>Date</th>\n",
       "      <th>Time</th>\n",
       "      <th>User</th>\n",
       "      <th>Message</th>\n",
       "      <th>Day</th>\n",
       "      <th>Month</th>\n",
       "      <th>Year</th>\n",
       "      <th>Hour</th>\n",
       "    </tr>\n",
       "  </thead>\n",
       "  <tbody>\n",
       "    <tr>\n",
       "      <th>0</th>\n",
       "      <td>2016-12-21</td>\n",
       "      <td>15:13</td>\n",
       "      <td>Sara</td>\n",
       "      <td>Image or Video</td>\n",
       "      <td>Wednesday</td>\n",
       "      <td>December</td>\n",
       "      <td>2016</td>\n",
       "      <td>15</td>\n",
       "    </tr>\n",
       "    <tr>\n",
       "      <th>1</th>\n",
       "      <td>2016-12-21</td>\n",
       "      <td>15:14</td>\n",
       "      <td>Sara</td>\n",
       "      <td>Image or Video</td>\n",
       "      <td>Wednesday</td>\n",
       "      <td>December</td>\n",
       "      <td>2016</td>\n",
       "      <td>15</td>\n",
       "    </tr>\n",
       "    <tr>\n",
       "      <th>2</th>\n",
       "      <td>2016-12-21</td>\n",
       "      <td>15:14</td>\n",
       "      <td>Sara</td>\n",
       "      <td>Image or Video</td>\n",
       "      <td>Wednesday</td>\n",
       "      <td>December</td>\n",
       "      <td>2016</td>\n",
       "      <td>15</td>\n",
       "    </tr>\n",
       "    <tr>\n",
       "      <th>3</th>\n",
       "      <td>2016-12-21</td>\n",
       "      <td>15:14</td>\n",
       "      <td>Sara</td>\n",
       "      <td>Image or Video</td>\n",
       "      <td>Wednesday</td>\n",
       "      <td>December</td>\n",
       "      <td>2016</td>\n",
       "      <td>15</td>\n",
       "    </tr>\n",
       "    <tr>\n",
       "      <th>4</th>\n",
       "      <td>2016-12-21</td>\n",
       "      <td>15:14</td>\n",
       "      <td>Sara</td>\n",
       "      <td>Image or Video</td>\n",
       "      <td>Wednesday</td>\n",
       "      <td>December</td>\n",
       "      <td>2016</td>\n",
       "      <td>15</td>\n",
       "    </tr>\n",
       "  </tbody>\n",
       "</table>\n",
       "</div>"
      ],
      "text/plain": [
       "        Date   Time  User         Message        Day     Month  Year Hour\n",
       "0 2016-12-21  15:13  Sara  Image or Video  Wednesday  December  2016   15\n",
       "1 2016-12-21  15:14  Sara  Image or Video  Wednesday  December  2016   15\n",
       "2 2016-12-21  15:14  Sara  Image or Video  Wednesday  December  2016   15\n",
       "3 2016-12-21  15:14  Sara  Image or Video  Wednesday  December  2016   15\n",
       "4 2016-12-21  15:14  Sara  Image or Video  Wednesday  December  2016   15"
      ]
     },
     "execution_count": 52,
     "metadata": {},
     "output_type": "execute_result"
    }
   ],
   "source": [
    "df.head()"
   ]
  },
  {
   "cell_type": "code",
   "execution_count": 53,
   "id": "771b86f0",
   "metadata": {},
   "outputs": [
    {
     "name": "stdout",
     "output_type": "stream",
     "text": [
      "Total Messages 7569\n"
     ]
    }
   ],
   "source": [
    "print(\"Total Messages\",len(df['Message']))"
   ]
  },
  {
   "cell_type": "code",
   "execution_count": 54,
   "id": "0e489cf0",
   "metadata": {},
   "outputs": [
    {
     "data": {
      "text/html": [
       "<div>\n",
       "<style scoped>\n",
       "    .dataframe tbody tr th:only-of-type {\n",
       "        vertical-align: middle;\n",
       "    }\n",
       "\n",
       "    .dataframe tbody tr th {\n",
       "        vertical-align: top;\n",
       "    }\n",
       "\n",
       "    .dataframe thead th {\n",
       "        text-align: right;\n",
       "    }\n",
       "</style>\n",
       "<table border=\"1\" class=\"dataframe\">\n",
       "  <thead>\n",
       "    <tr style=\"text-align: right;\">\n",
       "      <th></th>\n",
       "      <th>Message</th>\n",
       "    </tr>\n",
       "    <tr>\n",
       "      <th>Date</th>\n",
       "      <th></th>\n",
       "    </tr>\n",
       "  </thead>\n",
       "  <tbody>\n",
       "    <tr>\n",
       "      <th>2020-09-16</th>\n",
       "      <td>217</td>\n",
       "    </tr>\n",
       "    <tr>\n",
       "      <th>2021-12-08</th>\n",
       "      <td>147</td>\n",
       "    </tr>\n",
       "    <tr>\n",
       "      <th>2021-07-21</th>\n",
       "      <td>99</td>\n",
       "    </tr>\n",
       "    <tr>\n",
       "      <th>2022-11-01</th>\n",
       "      <td>87</td>\n",
       "    </tr>\n",
       "  </tbody>\n",
       "</table>\n",
       "</div>"
      ],
      "text/plain": [
       "            Message\n",
       "Date               \n",
       "2020-09-16      217\n",
       "2021-12-08      147\n",
       "2021-07-21       99\n",
       "2022-11-01       87"
      ]
     },
     "execution_count": 54,
     "metadata": {},
     "output_type": "execute_result"
    }
   ],
   "source": [
    "df.groupby('Date').agg({'Message':'count'}).sort_values(by='Message',ascending=False)[:4]"
   ]
  },
  {
   "cell_type": "code",
   "execution_count": 55,
   "id": "807d6e7a",
   "metadata": {},
   "outputs": [],
   "source": [
    "df_date=df.groupby('Date').agg({'Message':'count'}).reset_index()"
   ]
  },
  {
   "cell_type": "code",
   "execution_count": 56,
   "id": "5129bf50",
   "metadata": {},
   "outputs": [
    {
     "data": {
      "image/png": "[encoded data removed]"
     },
     "metadata": {},
     "output_type": "display_data"
    }
   ],
   "source": [
    "fig = go.Figure()\n",
    "fig.add_trace(\n",
    "    go.Line(x=df_date.Date, y=df_date.Message))\n",
    "\n",
    "# Set title\n",
    "fig.update_layout(\n",
    "    title_text=\"Chat Time series\"\n",
    ")\n",
    "fig.update_layout(\n",
    "    xaxis=dict(\n",
    "        rangeselector=dict(\n",
    "            buttons=list([\n",
    "                dict(count=1,\n",
    "                     label=\"1m\",\n",
    "                     step=\"month\",\n",
    "                     stepmode=\"backward\"),\n",
    "                dict(count=6,\n",
    "                     label=\"6m\",\n",
    "                     step=\"month\",\n",
    "                     stepmode=\"backward\"),\n",
    "                dict(count=1,\n",
    "                     label=\"YTD\",\n",
    "                     step=\"year\",\n",
    "                     stepmode=\"todate\"),\n",
    "                dict(count=1,\n",
    "                     label=\"1y\",\n",
    "                     step=\"year\",\n",
    "                     stepmode=\"backward\"),\n",
    "                dict(step=\"all\")\n",
    "            ])\n",
    "        ),\n",
    "        rangeslider=dict(\n",
    "            visible=True\n",
    "        ),\n",
    "        type=\"date\"\n",
    "    )\n",
    ")\n",
    "\n",
    "fig.show(\"png\")"
   ]
  },
  {
   "cell_type": "code",
   "execution_count": 57,
   "id": "96da4851",
   "metadata": {},
   "outputs": [
    {
     "data": {
      "text/plain": [
       "Sara      4277\n",
       "Hisham    3292\n",
       "Name: User, dtype: int64"
      ]
     },
     "execution_count": 57,
     "metadata": {},
     "output_type": "execute_result"
    }
   ],
   "source": [
    "df['User'].value_counts()"
   ]
  },
  {
   "cell_type": "code",
   "execution_count": 58,
   "id": "236ae873",
   "metadata": {},
   "outputs": [
    {
     "data": {
      "image/png": "[encoded data removed]"
     },
     "metadata": {},
     "output_type": "display_data"
    }
   ],
   "source": [
    "fig = px.pie(df, values=df['User'].value_counts().values, names=df['User'].value_counts().index)\n",
    "fig.show(\"png\")"
   ]
  },
  {
   "cell_type": "code",
   "execution_count": 59,
   "id": "63312ffa",
   "metadata": {},
   "outputs": [
    {
     "data": {
      "text/html": [
       "<div>\n",
       "<style scoped>\n",
       "    .dataframe tbody tr th:only-of-type {\n",
       "        vertical-align: middle;\n",
       "    }\n",
       "\n",
       "    .dataframe tbody tr th {\n",
       "        vertical-align: top;\n",
       "    }\n",
       "\n",
       "    .dataframe thead th {\n",
       "        text-align: right;\n",
       "    }\n",
       "</style>\n",
       "<table border=\"1\" class=\"dataframe\">\n",
       "  <thead>\n",
       "    <tr style=\"text-align: right;\">\n",
       "      <th></th>\n",
       "      <th>Message</th>\n",
       "    </tr>\n",
       "    <tr>\n",
       "      <th>Day</th>\n",
       "      <th></th>\n",
       "    </tr>\n",
       "  </thead>\n",
       "  <tbody>\n",
       "    <tr>\n",
       "      <th>Wednesday</th>\n",
       "      <td>1531</td>\n",
       "    </tr>\n",
       "    <tr>\n",
       "      <th>Friday</th>\n",
       "      <td>1254</td>\n",
       "    </tr>\n",
       "    <tr>\n",
       "      <th>Monday</th>\n",
       "      <td>1166</td>\n",
       "    </tr>\n",
       "    <tr>\n",
       "      <th>Tuesday</th>\n",
       "      <td>1064</td>\n",
       "    </tr>\n",
       "    <tr>\n",
       "      <th>Sunday</th>\n",
       "      <td>948</td>\n",
       "    </tr>\n",
       "    <tr>\n",
       "      <th>Thursday</th>\n",
       "      <td>878</td>\n",
       "    </tr>\n",
       "    <tr>\n",
       "      <th>Saturday</th>\n",
       "      <td>728</td>\n",
       "    </tr>\n",
       "  </tbody>\n",
       "</table>\n",
       "</div>"
      ],
      "text/plain": [
       "           Message\n",
       "Day               \n",
       "Wednesday     1531\n",
       "Friday        1254\n",
       "Monday        1166\n",
       "Tuesday       1064\n",
       "Sunday         948\n",
       "Thursday       878\n",
       "Saturday       728"
      ]
     },
     "execution_count": 59,
     "metadata": {},
     "output_type": "execute_result"
    }
   ],
   "source": [
    "df.groupby('Day').agg({'Message':'count'}).sort_values(by='Message',ascending=False)"
   ]
  },
  {
   "cell_type": "code",
   "execution_count": 60,
   "id": "9d9e6054",
   "metadata": {},
   "outputs": [
    {
     "data": {
      "image/png": "[encoded data removed]"
     },
     "metadata": {},
     "output_type": "display_data"
    }
   ],
   "source": [
    "df_day = df.groupby('Day').agg({'Message':'count'}).sort_values(by='Message',ascending=False).reset_index()\n",
    "fig = px.bar(df_day, x='Day', y='Message',title='Messages Per Day')\n",
    "fig.show(\"png\")"
   ]
  },
  {
   "cell_type": "code",
   "execution_count": 61,
   "id": "7120c80c",
   "metadata": {},
   "outputs": [
    {
     "data": {
      "text/html": [
       "<div>\n",
       "<style scoped>\n",
       "    .dataframe tbody tr th:only-of-type {\n",
       "        vertical-align: middle;\n",
       "    }\n",
       "\n",
       "    .dataframe tbody tr th {\n",
       "        vertical-align: top;\n",
       "    }\n",
       "\n",
       "    .dataframe thead th {\n",
       "        text-align: right;\n",
       "    }\n",
       "</style>\n",
       "<table border=\"1\" class=\"dataframe\">\n",
       "  <thead>\n",
       "    <tr style=\"text-align: right;\">\n",
       "      <th></th>\n",
       "      <th>Message</th>\n",
       "    </tr>\n",
       "    <tr>\n",
       "      <th>Month</th>\n",
       "      <th></th>\n",
       "    </tr>\n",
       "  </thead>\n",
       "  <tbody>\n",
       "    <tr>\n",
       "      <th>June</th>\n",
       "      <td>878</td>\n",
       "    </tr>\n",
       "    <tr>\n",
       "      <th>August</th>\n",
       "      <td>785</td>\n",
       "    </tr>\n",
       "    <tr>\n",
       "      <th>September</th>\n",
       "      <td>728</td>\n",
       "    </tr>\n",
       "    <tr>\n",
       "      <th>May</th>\n",
       "      <td>717</td>\n",
       "    </tr>\n",
       "    <tr>\n",
       "      <th>December</th>\n",
       "      <td>714</td>\n",
       "    </tr>\n",
       "    <tr>\n",
       "      <th>January</th>\n",
       "      <td>682</td>\n",
       "    </tr>\n",
       "    <tr>\n",
       "      <th>July</th>\n",
       "      <td>664</td>\n",
       "    </tr>\n",
       "    <tr>\n",
       "      <th>November</th>\n",
       "      <td>645</td>\n",
       "    </tr>\n",
       "    <tr>\n",
       "      <th>October</th>\n",
       "      <td>600</td>\n",
       "    </tr>\n",
       "    <tr>\n",
       "      <th>April</th>\n",
       "      <td>459</td>\n",
       "    </tr>\n",
       "    <tr>\n",
       "      <th>February</th>\n",
       "      <td>349</td>\n",
       "    </tr>\n",
       "    <tr>\n",
       "      <th>March</th>\n",
       "      <td>348</td>\n",
       "    </tr>\n",
       "  </tbody>\n",
       "</table>\n",
       "</div>"
      ],
      "text/plain": [
       "           Message\n",
       "Month             \n",
       "June           878\n",
       "August         785\n",
       "September      728\n",
       "May            717\n",
       "December       714\n",
       "January        682\n",
       "July           664\n",
       "November       645\n",
       "October        600\n",
       "April          459\n",
       "February       349\n",
       "March          348"
      ]
     },
     "execution_count": 61,
     "metadata": {},
     "output_type": "execute_result"
    }
   ],
   "source": [
    "df.groupby('Month').agg({'Message':'count'}).sort_values(by='Message',ascending=False)"
   ]
  },
  {
   "cell_type": "code",
   "execution_count": 62,
   "id": "aa2fd157",
   "metadata": {},
   "outputs": [
    {
     "data": {
      "image/png": "[encoded data removed]"
     },
     "metadata": {},
     "output_type": "display_data"
    }
   ],
   "source": [
    "df_month = df.groupby('Month').agg({'Message':'count'}).sort_values(by='Message',ascending=False).reset_index()\n",
    "fig = px.bar(df_month, x='Month', y='Message', title='Messages Per Month')\n",
    "fig.show(\"png\")"
   ]
  },
  {
   "cell_type": "code",
   "execution_count": 63,
   "id": "c4461c6f",
   "metadata": {},
   "outputs": [
    {
     "data": {
      "text/html": [
       "<div>\n",
       "<style scoped>\n",
       "    .dataframe tbody tr th:only-of-type {\n",
       "        vertical-align: middle;\n",
       "    }\n",
       "\n",
       "    .dataframe tbody tr th {\n",
       "        vertical-align: top;\n",
       "    }\n",
       "\n",
       "    .dataframe thead th {\n",
       "        text-align: right;\n",
       "    }\n",
       "</style>\n",
       "<table border=\"1\" class=\"dataframe\">\n",
       "  <thead>\n",
       "    <tr style=\"text-align: right;\">\n",
       "      <th></th>\n",
       "      <th>Message</th>\n",
       "    </tr>\n",
       "    <tr>\n",
       "      <th>Hour</th>\n",
       "      <th></th>\n",
       "    </tr>\n",
       "  </thead>\n",
       "  <tbody>\n",
       "    <tr>\n",
       "      <th>22</th>\n",
       "      <td>791</td>\n",
       "    </tr>\n",
       "    <tr>\n",
       "      <th>00</th>\n",
       "      <td>704</td>\n",
       "    </tr>\n",
       "    <tr>\n",
       "      <th>23</th>\n",
       "      <td>702</td>\n",
       "    </tr>\n",
       "    <tr>\n",
       "      <th>15</th>\n",
       "      <td>530</td>\n",
       "    </tr>\n",
       "    <tr>\n",
       "      <th>20</th>\n",
       "      <td>514</td>\n",
       "    </tr>\n",
       "    <tr>\n",
       "      <th>16</th>\n",
       "      <td>477</td>\n",
       "    </tr>\n",
       "    <tr>\n",
       "      <th>19</th>\n",
       "      <td>459</td>\n",
       "    </tr>\n",
       "    <tr>\n",
       "      <th>18</th>\n",
       "      <td>452</td>\n",
       "    </tr>\n",
       "    <tr>\n",
       "      <th>17</th>\n",
       "      <td>451</td>\n",
       "    </tr>\n",
       "    <tr>\n",
       "      <th>01</th>\n",
       "      <td>441</td>\n",
       "    </tr>\n",
       "  </tbody>\n",
       "</table>\n",
       "</div>"
      ],
      "text/plain": [
       "      Message\n",
       "Hour         \n",
       "22        791\n",
       "00        704\n",
       "23        702\n",
       "15        530\n",
       "20        514\n",
       "16        477\n",
       "19        459\n",
       "18        452\n",
       "17        451\n",
       "01        441"
      ]
     },
     "execution_count": 63,
     "metadata": {},
     "output_type": "execute_result"
    }
   ],
   "source": [
    "df.groupby('Hour').agg({'Message':'count'}).sort_values(by='Message',ascending=False)[:10]"
   ]
  },
  {
   "cell_type": "code",
   "execution_count": 64,
   "id": "7b0d96ca",
   "metadata": {},
   "outputs": [
    {
     "data": {
      "image/png": "[encoded data removed]"
     },
     "metadata": {},
     "output_type": "display_data"
    }
   ],
   "source": [
    "df_hour = df.groupby('Hour').agg({'Message':'count'}).sort_values(by='Message',ascending=False)[:10].reset_index()\n",
    "fig = px.bar(df_hour, x='Hour', y='Message', title='Messages Per Hour')\n",
    "fig.show(\"png\")"
   ]
  },
  {
   "cell_type": "code",
   "execution_count": 65,
   "id": "f034e378",
   "metadata": {},
   "outputs": [
    {
     "data": {
      "text/plain": [
       "count               7569\n",
       "unique              4448\n",
       "top       Image or Video\n",
       "freq                2536\n",
       "Name: Message, dtype: object"
      ]
     },
     "execution_count": 65,
     "metadata": {},
     "output_type": "execute_result"
    }
   ],
   "source": [
    "df['Message'].describe()"
   ]
  },
  {
   "cell_type": "code",
   "execution_count": 66,
   "id": "e84d1773",
   "metadata": {},
   "outputs": [],
   "source": [
    "#Getting arabic stop words to remove them from the messages\n",
    "with open('arabicstopwords.txt', \"r+\",encoding=\"utf-8\") as s:\n",
    "    stopwords = s.read().splitlines() "
   ]
  },
  {
   "cell_type": "code",
   "execution_count": 67,
   "id": "2379a4e2",
   "metadata": {},
   "outputs": [
    {
     "data": {
      "text/plain": [
       "['،', 'ء', 'ءَ', 'آ', 'آب']"
      ]
     },
     "execution_count": 67,
     "metadata": {},
     "output_type": "execute_result"
    }
   ],
   "source": [
    "stopwords[:5]"
   ]
  },
  {
   "cell_type": "code",
   "execution_count": 68,
   "id": "6bac786b",
   "metadata": {},
   "outputs": [],
   "source": [
    "user1 = df['User'].value_counts().index[0]"
   ]
  },
  {
   "cell_type": "code",
   "execution_count": 69,
   "id": "bb70abb4",
   "metadata": {},
   "outputs": [],
   "source": [
    "user2 = df['User'].value_counts().index[1]"
   ]
  },
  {
   "cell_type": "code",
   "execution_count": 70,
   "id": "d3d26765",
   "metadata": {},
   "outputs": [],
   "source": [
    "def most_freq_words(user):\n",
    "    #Get messages from one user\n",
    "    messages = (\" \".join(df[(df['Message']!='Image or Video')&(df['User']==user)]['Message']).split())\n",
    "    #remove stop words\n",
    "    for x in messages:\n",
    "       if x in stopwords: \n",
    "           messages.remove(x)\n",
    "\n",
    "    return Counter(messages).most_common(7)"
   ]
  },
  {
   "cell_type": "code",
   "execution_count": 71,
   "id": "aab154cc",
   "metadata": {},
   "outputs": [
    {
     "name": "stdout",
     "output_type": "stream",
     "text": [
      "Most Frequent Words by Sara\n"
     ]
    },
    {
     "data": {
      "text/plain": [
       "[('عشان', 114),\n",
       " ('هشام', 80),\n",
       " ('دي', 66),\n",
       " ('بقي', 61),\n",
       " ('انا', 56),\n",
       " ('يعني', 45),\n",
       " ('مش', 45)]"
      ]
     },
     "execution_count": 71,
     "metadata": {},
     "output_type": "execute_result"
    }
   ],
   "source": [
    "print('Most Frequent Words by',user1)\n",
    "most_freq_words(user1)"
   ]
  },
  {
   "cell_type": "code",
   "execution_count": 72,
   "id": "db4998de",
   "metadata": {},
   "outputs": [
    {
     "name": "stdout",
     "output_type": "stream",
     "text": [
      "Most Frequent Words by Hisham\n"
     ]
    },
    {
     "data": {
      "text/plain": [
       "[('دي', 46),\n",
       " ('علشان', 36),\n",
       " ('هى', 30),\n",
       " ('ليه', 29),\n",
       " ('يعني', 28),\n",
       " ('انتِ', 27),\n",
       " ('ايه', 26)]"
      ]
     },
     "execution_count": 72,
     "metadata": {},
     "output_type": "execute_result"
    }
   ],
   "source": [
    "print('Most Frequent Words by',user2)\n",
    "most_freq_words(user2)"
   ]
  }
 ],
 "metadata": {
  "kernelspec": {
   "display_name": "Python 3.8.8 ('base')",
   "language": "python",
   "name": "python3"
  },
  "language_info": {
   "codemirror_mode": {
    "name": "ipython",
    "version": 3
   },
   "file_extension": ".py",
   "mimetype": "text/x-python",
   "name": "python",
   "nbconvert_exporter": "python",
   "pygments_lexer": "ipython3",
   "version": "3.8.8"
  },
  "vscode": {
   "interpreter": {
    "hash": "49cb93f377a7abe7414b7b0f21fb3017538004a126cf690fb524202736b7fb92"
   }
  }
 },
 "nbformat": 4,
 "nbformat_minor": 5
}
